{
 "cells": [
  {
   "cell_type": "markdown",
   "metadata": {
    "id": "NexmxFSaR-0f"
   },
   "source": [
    "# Team\n",
    "\n",
    "# Danny Phan\n",
    "\n",
    "# Illya Gordyy"
   ]
  },
  {
   "cell_type": "markdown",
   "metadata": {
    "id": "P7UAEKIDRFcX"
   },
   "source": [
    "# Loading the dataset"
   ]
  },
  {
   "cell_type": "code",
   "execution_count": 115,
   "metadata": {
    "colab": {
     "base_uri": "https://localhost:8080/",
     "height": 206
    },
    "id": "YhzSwVbMRI5D",
    "outputId": "b7b56e80-dbf9-40b1-eb3f-58587c90e1d0"
   },
   "outputs": [
    {
     "data": {
      "text/html": [
       "<div>\n",
       "<style scoped>\n",
       "    .dataframe tbody tr th:only-of-type {\n",
       "        vertical-align: middle;\n",
       "    }\n",
       "\n",
       "    .dataframe tbody tr th {\n",
       "        vertical-align: top;\n",
       "    }\n",
       "\n",
       "    .dataframe thead th {\n",
       "        text-align: right;\n",
       "    }\n",
       "</style>\n",
       "<table border=\"1\" class=\"dataframe\">\n",
       "  <thead>\n",
       "    <tr style=\"text-align: right;\">\n",
       "      <th></th>\n",
       "      <th>Date</th>\n",
       "      <th>Open</th>\n",
       "      <th>High</th>\n",
       "      <th>Low</th>\n",
       "      <th>Close</th>\n",
       "      <th>Adj Close</th>\n",
       "      <th>Volume</th>\n",
       "    </tr>\n",
       "  </thead>\n",
       "  <tbody>\n",
       "    <tr>\n",
       "      <th>0</th>\n",
       "      <td>2004-08-19</td>\n",
       "      <td>49.676899</td>\n",
       "      <td>51.693783</td>\n",
       "      <td>47.669952</td>\n",
       "      <td>49.845802</td>\n",
       "      <td>49.845802</td>\n",
       "      <td>44994500</td>\n",
       "    </tr>\n",
       "    <tr>\n",
       "      <th>1</th>\n",
       "      <td>2004-08-20</td>\n",
       "      <td>50.178635</td>\n",
       "      <td>54.187561</td>\n",
       "      <td>49.925285</td>\n",
       "      <td>53.805050</td>\n",
       "      <td>53.805050</td>\n",
       "      <td>23005800</td>\n",
       "    </tr>\n",
       "    <tr>\n",
       "      <th>2</th>\n",
       "      <td>2004-08-23</td>\n",
       "      <td>55.017166</td>\n",
       "      <td>56.373344</td>\n",
       "      <td>54.172661</td>\n",
       "      <td>54.346527</td>\n",
       "      <td>54.346527</td>\n",
       "      <td>18393200</td>\n",
       "    </tr>\n",
       "    <tr>\n",
       "      <th>3</th>\n",
       "      <td>2004-08-24</td>\n",
       "      <td>55.260582</td>\n",
       "      <td>55.439419</td>\n",
       "      <td>51.450363</td>\n",
       "      <td>52.096165</td>\n",
       "      <td>52.096165</td>\n",
       "      <td>15361800</td>\n",
       "    </tr>\n",
       "    <tr>\n",
       "      <th>4</th>\n",
       "      <td>2004-08-25</td>\n",
       "      <td>52.140873</td>\n",
       "      <td>53.651051</td>\n",
       "      <td>51.604362</td>\n",
       "      <td>52.657513</td>\n",
       "      <td>52.657513</td>\n",
       "      <td>9257400</td>\n",
       "    </tr>\n",
       "  </tbody>\n",
       "</table>\n",
       "</div>"
      ],
      "text/plain": [
       "         Date       Open       High        Low      Close  Adj Close    Volume\n",
       "0  2004-08-19  49.676899  51.693783  47.669952  49.845802  49.845802  44994500\n",
       "1  2004-08-20  50.178635  54.187561  49.925285  53.805050  53.805050  23005800\n",
       "2  2004-08-23  55.017166  56.373344  54.172661  54.346527  54.346527  18393200\n",
       "3  2004-08-24  55.260582  55.439419  51.450363  52.096165  52.096165  15361800\n",
       "4  2004-08-25  52.140873  53.651051  51.604362  52.657513  52.657513   9257400"
      ]
     },
     "execution_count": 115,
     "metadata": {},
     "output_type": "execute_result"
    }
   ],
   "source": [
    "import numpy as np\n",
    "import pandas as pd\n",
    "from sklearn.preprocessing import MinMaxScaler\n",
    "from keras.models import Sequential\n",
    "from keras.layers import Dense, Dropout\n",
    "from sklearn import metrics\n",
    "from tensorflow.keras.callbacks import EarlyStopping\n",
    "from tensorflow.keras.callbacks import ModelCheckpoint\n",
    "from sklearn.model_selection import train_test_split\n",
    "import matplotlib.pyplot as plt\n",
    "import datetime\n",
    "from keras.callbacks import TensorBoard\n",
    "from collections.abc import Sequence\n",
    "\n",
    "# Load the data\n",
    "df = pd.read_csv('GOOG.csv')\n",
    "\n",
    "df.head()"
   ]
  },
  {
   "cell_type": "markdown",
   "metadata": {
    "id": "bWK8SdZOSw81"
   },
   "source": [
    "# Functions"
   ]
  },
  {
   "cell_type": "code",
   "execution_count": 116,
   "metadata": {
    "id": "a90ZWsN4S5JE"
   },
   "outputs": [],
   "source": [
    "# Encode a numeric column as zscores\n",
    "def encode_numeric_zscore(df, name, mean=None, sd=None):\n",
    "    if mean is None:\n",
    "        mean = df[name].mean()\n",
    "\n",
    "    if sd is None:\n",
    "        sd = df[name].std()\n",
    "\n",
    "    df[name] = (df[name] - mean) / sd\n",
    "\n",
    "# Regression chart.\n",
    "def chart_regression(pred,y,sort=True):\n",
    "    t = pd.DataFrame({'pred' : pred, 'y' : y.flatten()})\n",
    "    if sort:\n",
    "        t.sort_values(by=['y'],inplace=True)\n",
    "        \n",
    "    b = plt.plot(t['pred'].tolist(),label='prediction')\n",
    "    a = plt.plot(t['y'].tolist(),label='expected')\n",
    "    \n",
    "    plt.ylabel('output')\n",
    "    plt.legend()\n",
    "    plt.show()\n",
    "\n",
    "def to_sequences(seq_size, data1, data2):\n",
    "    x = []\n",
    "    y = []\n",
    "\n",
    "    for i in range(len(data1) - seq_size):\n",
    "        # Get the window of features\n",
    "        window = data1[i:(i + seq_size)]\n",
    "        # Get the corresponding target value\n",
    "        after_window = data2[i + seq_size]\n",
    "        # Append the window and the target value\n",
    "        x.append(window)\n",
    "        y.append(after_window)\n",
    "\n",
    "    return np.array(x), np.array(y)\n",
    "\n",
    "def encode_text_dummy(df, name):\n",
    "    dummies = pd.get_dummies(df[name])\n",
    "    for x in dummies.columns:\n",
    "        dummy_name = \"{}-{}\".format(name, x)\n",
    "        df[dummy_name] = dummies[x]\n",
    "    df.drop(name, axis=1, inplace=True)\n",
    "\n",
    "\n",
    "def missing_median(df, name):\n",
    "    med = df[name].median()\n",
    "    df[name] = df[name].fillna(med)"
   ]
  },
  {
   "cell_type": "markdown",
   "metadata": {
    "id": "I_ym4vV2S_ol"
   },
   "source": [
    "# Extract features"
   ]
  },
  {
   "cell_type": "code",
   "execution_count": 117,
   "metadata": {},
   "outputs": [
    {
     "name": "stdout",
     "output_type": "stream",
     "text": [
      "       Open      High       Low    Volume  Close_for_input\n",
      "0  0.000329  0.000942  0.000000  0.543578         0.000135\n",
      "1  0.000740  0.002981  0.001877  0.277886         0.003383\n",
      "2  0.004700  0.004767  0.005413  0.222151         0.003828\n",
      "3  0.004900  0.004004  0.003147  0.185523         0.001981\n",
      "4  0.002346  0.002542  0.003275  0.111763         0.002442\n",
      "       Close\n",
      "0  49.845802\n",
      "1  53.805050\n",
      "2  54.346527\n",
      "3  52.096165\n",
      "4  52.657513\n"
     ]
    },
    {
     "name": "stderr",
     "output_type": "stream",
     "text": [
      "C:\\Users\\Illya\\AppData\\Local\\Temp\\ipykernel_9596\\736552455.py:18: FutureWarning: A value is trying to be set on a copy of a DataFrame or Series through chained assignment using an inplace method.\n",
      "The behavior will change in pandas 3.0. This inplace method will never work because the intermediate object on which we are setting values always behaves as a copy.\n",
      "\n",
      "For example, when doing 'df[col].method(value, inplace=True)', try using 'df.method({col: value}, inplace=True)' or df[col] = df[col].method(value) instead, to perform the operation inplace on the original object.\n",
      "\n",
      "\n",
      "  df[column].fillna(df[column].median(), inplace=True)\n"
     ]
    }
   ],
   "source": [
    "# Normalize the relevant columns\n",
    "scaler = MinMaxScaler()\n",
    "\n",
    "\n",
    "# Create a copy of 'Close' for input features\n",
    "df['Close_for_input'] = df['Close']  # This is your Close-in equivalent\n",
    "\n",
    "\n",
    "df[['Open', 'High', 'Low', 'Volume', 'Close_for_input']] = scaler.fit_transform(df[['Open', 'High', 'Low', 'Volume', 'Close_for_input']])\n",
    "\n",
    "\n",
    "# Prepare features and target variable\n",
    "features = ['Open', 'High', 'Low', 'Volume', 'Close_for_input']  # Using the copied Close for input\n",
    "target = 'Close'  # Original Close as target\n",
    "\n",
    "# Replace null values with the median for other features\n",
    "for column in ['Open', 'High', 'Low', 'Volume', 'Close_for_input']:\n",
    "    df[column].fillna(df[column].median(), inplace=True)\n",
    "\n",
    "\n",
    "#Replace null values with the median\n",
    "for column in features:\n",
    "    missing_median(df, column)\n",
    "\n",
    "\n",
    "df = df.dropna(subset=['Open', 'High', 'Low', 'Volume', 'Close_for_input', 'Close'])\n",
    "\n",
    "\n",
    "\n",
    "# Extract the features and target\n",
    "data = df[features]\n",
    "data_out = df[[target]]\n",
    "\n",
    "\n",
    "# Display the prepared data\n",
    "print(data.head())\n",
    "print(data_out.head())\n",
    "\n",
    "\n",
    "\n"
   ]
  },
  {
   "cell_type": "markdown",
   "metadata": {},
   "source": [
    "check for missing values, drop date and adj close columns"
   ]
  },
  {
   "cell_type": "code",
   "execution_count": 118,
   "metadata": {},
   "outputs": [
    {
     "data": {
      "text/plain": [
       "(3578, 5)"
      ]
     },
     "execution_count": 118,
     "metadata": {},
     "output_type": "execute_result"
    }
   ],
   "source": [
    "data.shape"
   ]
  },
  {
   "cell_type": "code",
   "execution_count": 119,
   "metadata": {},
   "outputs": [
    {
     "data": {
      "text/html": [
       "<div>\n",
       "<style scoped>\n",
       "    .dataframe tbody tr th:only-of-type {\n",
       "        vertical-align: middle;\n",
       "    }\n",
       "\n",
       "    .dataframe tbody tr th {\n",
       "        vertical-align: top;\n",
       "    }\n",
       "\n",
       "    .dataframe thead th {\n",
       "        text-align: right;\n",
       "    }\n",
       "</style>\n",
       "<table border=\"1\" class=\"dataframe\">\n",
       "  <thead>\n",
       "    <tr style=\"text-align: right;\">\n",
       "      <th></th>\n",
       "      <th>Open</th>\n",
       "      <th>High</th>\n",
       "      <th>Low</th>\n",
       "      <th>Volume</th>\n",
       "      <th>Close_for_input</th>\n",
       "    </tr>\n",
       "  </thead>\n",
       "  <tbody>\n",
       "    <tr>\n",
       "      <th>0</th>\n",
       "      <td>0.000329</td>\n",
       "      <td>0.000942</td>\n",
       "      <td>0.000000</td>\n",
       "      <td>0.543578</td>\n",
       "      <td>0.000135</td>\n",
       "    </tr>\n",
       "    <tr>\n",
       "      <th>1</th>\n",
       "      <td>0.000740</td>\n",
       "      <td>0.002981</td>\n",
       "      <td>0.001877</td>\n",
       "      <td>0.277886</td>\n",
       "      <td>0.003383</td>\n",
       "    </tr>\n",
       "    <tr>\n",
       "      <th>2</th>\n",
       "      <td>0.004700</td>\n",
       "      <td>0.004767</td>\n",
       "      <td>0.005413</td>\n",
       "      <td>0.222151</td>\n",
       "      <td>0.003828</td>\n",
       "    </tr>\n",
       "    <tr>\n",
       "      <th>3</th>\n",
       "      <td>0.004900</td>\n",
       "      <td>0.004004</td>\n",
       "      <td>0.003147</td>\n",
       "      <td>0.185523</td>\n",
       "      <td>0.001981</td>\n",
       "    </tr>\n",
       "    <tr>\n",
       "      <th>4</th>\n",
       "      <td>0.002346</td>\n",
       "      <td>0.002542</td>\n",
       "      <td>0.003275</td>\n",
       "      <td>0.111763</td>\n",
       "      <td>0.002442</td>\n",
       "    </tr>\n",
       "  </tbody>\n",
       "</table>\n",
       "</div>"
      ],
      "text/plain": [
       "       Open      High       Low    Volume  Close_for_input\n",
       "0  0.000329  0.000942  0.000000  0.543578         0.000135\n",
       "1  0.000740  0.002981  0.001877  0.277886         0.003383\n",
       "2  0.004700  0.004767  0.005413  0.222151         0.003828\n",
       "3  0.004900  0.004004  0.003147  0.185523         0.001981\n",
       "4  0.002346  0.002542  0.003275  0.111763         0.002442"
      ]
     },
     "execution_count": 119,
     "metadata": {},
     "output_type": "execute_result"
    }
   ],
   "source": [
    "data.head()"
   ]
  },
  {
   "cell_type": "code",
   "execution_count": 120,
   "metadata": {},
   "outputs": [
    {
     "data": {
      "text/plain": [
       "(3578, 1)"
      ]
     },
     "execution_count": 120,
     "metadata": {},
     "output_type": "execute_result"
    }
   ],
   "source": [
    "data_out.shape"
   ]
  },
  {
   "cell_type": "code",
   "execution_count": 121,
   "metadata": {},
   "outputs": [
    {
     "data": {
      "text/html": [
       "<div>\n",
       "<style scoped>\n",
       "    .dataframe tbody tr th:only-of-type {\n",
       "        vertical-align: middle;\n",
       "    }\n",
       "\n",
       "    .dataframe tbody tr th {\n",
       "        vertical-align: top;\n",
       "    }\n",
       "\n",
       "    .dataframe thead th {\n",
       "        text-align: right;\n",
       "    }\n",
       "</style>\n",
       "<table border=\"1\" class=\"dataframe\">\n",
       "  <thead>\n",
       "    <tr style=\"text-align: right;\">\n",
       "      <th></th>\n",
       "      <th>Close</th>\n",
       "    </tr>\n",
       "  </thead>\n",
       "  <tbody>\n",
       "    <tr>\n",
       "      <th>0</th>\n",
       "      <td>49.845802</td>\n",
       "    </tr>\n",
       "    <tr>\n",
       "      <th>1</th>\n",
       "      <td>53.805050</td>\n",
       "    </tr>\n",
       "    <tr>\n",
       "      <th>2</th>\n",
       "      <td>54.346527</td>\n",
       "    </tr>\n",
       "    <tr>\n",
       "      <th>3</th>\n",
       "      <td>52.096165</td>\n",
       "    </tr>\n",
       "    <tr>\n",
       "      <th>4</th>\n",
       "      <td>52.657513</td>\n",
       "    </tr>\n",
       "  </tbody>\n",
       "</table>\n",
       "</div>"
      ],
      "text/plain": [
       "       Close\n",
       "0  49.845802\n",
       "1  53.805050\n",
       "2  54.346527\n",
       "3  52.096165\n",
       "4  52.657513"
      ]
     },
     "execution_count": 121,
     "metadata": {},
     "output_type": "execute_result"
    }
   ],
   "source": [
    "data_out.head()"
   ]
  },
  {
   "cell_type": "markdown",
   "metadata": {},
   "source": [
    "Null check"
   ]
  },
  {
   "cell_type": "code",
   "execution_count": 122,
   "metadata": {},
   "outputs": [
    {
     "name": "stdout",
     "output_type": "stream",
     "text": [
      "Remaining missing values:\n",
      " Open               0\n",
      "High               0\n",
      "Low                0\n",
      "Volume             0\n",
      "Close_for_input    0\n",
      "dtype: int64\n",
      "Remaining missing values:\n",
      " Close    0\n",
      "dtype: int64\n"
     ]
    }
   ],
   "source": [
    "print(\"Remaining missing values:\\n\", data.isnull().sum())\n",
    "print(\"Remaining missing values:\\n\", data_out.isnull().sum())"
   ]
  },
  {
   "cell_type": "code",
   "execution_count": 123,
   "metadata": {
    "colab": {
     "base_uri": "https://localhost:8080/",
     "height": 206
    },
    "id": "PhF1Ar_FTtuR",
    "outputId": "9cb41a0a-e974-4bd2-b9ce-15c8b3829840"
   },
   "outputs": [
    {
     "name": "stdout",
     "output_type": "stream",
     "text": [
      "(3578, 5)\n",
      "(3578, 1)\n"
     ]
    }
   ],
   "source": [
    "x = np.array(data.values, dtype = np.float32)\n",
    "y = np.array(data_out.values, dtype = np.float32)\n",
    "\n",
    "print(x.shape)\n",
    "print(y.shape)\n"
   ]
  },
  {
   "cell_type": "markdown",
   "metadata": {
    "id": "IkgtzlBrT0c0"
   },
   "source": [
    "Data Tranformation"
   ]
  },
  {
   "cell_type": "code",
   "execution_count": 124,
   "metadata": {
    "colab": {
     "base_uri": "https://localhost:8080/"
    },
    "id": "E6fi3Y3bT2Mo",
    "outputId": "52259a59-00fd-43da-b057-8630f69b03b6"
   },
   "outputs": [
    {
     "name": "stdout",
     "output_type": "stream",
     "text": [
      "Shape of x_seq: (3571, 7, 5)\n",
      "Shape of y_seq: (3571, 1)\n",
      "Shape of x_seq_reshape: (3571, 35)\n"
     ]
    }
   ],
   "source": [
    "SEQUENCE_SIZE = 7\n",
    "\n",
    "x_seq, y_seq = to_sequences(SEQUENCE_SIZE, x, y)\n",
    "\n",
    "\n",
    "print(\"Shape of x_seq: {}\".format(x_seq.shape))\n",
    "print(\"Shape of y_seq: {}\".format(y_seq.shape))\n",
    "\n",
    "# Reshaping the array\n",
    "x_seq_reshape = x_seq.reshape(x_seq.shape[0], -1)\n",
    "\n",
    "print(\"Shape of x_seq_reshape: {}\".format(x_seq_reshape.shape))\n"
   ]
  },
  {
   "cell_type": "code",
   "execution_count": 125,
   "metadata": {},
   "outputs": [
    {
     "name": "stdout",
     "output_type": "stream",
     "text": [
      "Positions of NaNs in x_seq: 0\n",
      "Positions of NaNs in y_seq: 0\n"
     ]
    }
   ],
   "source": [
    "nan_positions_x = np.argwhere(np.isnan(x_seq_reshape))\n",
    "print(\"Positions of NaNs in x_seq:\", nan_positions_x.sum())\n",
    "\n",
    "nan_positions_y = np.argwhere(np.isnan(y_seq))\n",
    "print(\"Positions of NaNs in y_seq:\", nan_positions_y.sum())"
   ]
  },
  {
   "cell_type": "markdown",
   "metadata": {
    "id": "maykB9RYVZt2"
   },
   "source": [
    "# Fully Connected Neural Network"
   ]
  },
  {
   "cell_type": "code",
   "execution_count": 126,
   "metadata": {
    "id": "ahxnSh3qVjCI"
   },
   "outputs": [],
   "source": [
    "# Split into train/test\n",
    "x_train, x_test, y_train, y_test = train_test_split(x_seq_reshape, y_seq, test_size=0.30, random_state=42)\n"
   ]
  },
  {
   "cell_type": "code",
   "execution_count": 127,
   "metadata": {
    "id": "YjQqj_5dxKOw"
   },
   "outputs": [
    {
     "data": {
      "text/plain": [
       "(2499, 35)"
      ]
     },
     "execution_count": 127,
     "metadata": {},
     "output_type": "execute_result"
    }
   ],
   "source": [
    "x_train.shape"
   ]
  },
  {
   "cell_type": "code",
   "execution_count": 128,
   "metadata": {},
   "outputs": [
    {
     "data": {
      "text/plain": [
       "(1072, 35)"
      ]
     },
     "execution_count": 128,
     "metadata": {},
     "output_type": "execute_result"
    }
   ],
   "source": [
    "x_test.shape"
   ]
  },
  {
   "cell_type": "code",
   "execution_count": 129,
   "metadata": {},
   "outputs": [
    {
     "data": {
      "text/plain": [
       "(2499, 1)"
      ]
     },
     "execution_count": 129,
     "metadata": {},
     "output_type": "execute_result"
    }
   ],
   "source": [
    "y_train.shape"
   ]
  },
  {
   "cell_type": "code",
   "execution_count": 130,
   "metadata": {},
   "outputs": [
    {
     "data": {
      "text/plain": [
       "(1072, 1)"
      ]
     },
     "execution_count": 130,
     "metadata": {},
     "output_type": "execute_result"
    }
   ],
   "source": [
    "y_test.shape"
   ]
  },
  {
   "cell_type": "code",
   "execution_count": 131,
   "metadata": {},
   "outputs": [
    {
     "name": "stdout",
     "output_type": "stream",
     "text": [
      "Number of NaNs in x_train: 0\n",
      "Number of NaNs in x_test: 0\n",
      "Number of NaNs in y_train: 0\n",
      "Number of NaNs in y_test: 0\n"
     ]
    }
   ],
   "source": [
    "print(\"Number of NaNs in x_train:\", np.isnan(x_train).sum())\n",
    "print(\"Number of NaNs in x_test:\", np.isnan(x_test).sum())\n",
    "print(\"Number of NaNs in y_train:\", np.isnan(y_train).sum())\n",
    "print(\"Number of NaNs in y_test:\", np.isnan(y_test).sum())"
   ]
  },
  {
   "cell_type": "code",
   "execution_count": 132,
   "metadata": {
    "colab": {
     "base_uri": "https://localhost:8080/",
     "height": 722
    },
    "id": "yiJt0-Lypg-i",
    "outputId": "f58cc3b9-5900-46f7-d9c7-1b20a4ad8809"
   },
   "outputs": [
    {
     "name": "stdout",
     "output_type": "stream",
     "text": [
      "Epoch 1/200\n"
     ]
    },
    {
     "name": "stderr",
     "output_type": "stream",
     "text": [
      "c:\\Users\\Illya\\anaconda3\\Lib\\site-packages\\keras\\src\\layers\\core\\dense.py:87: UserWarning: Do not pass an `input_shape`/`input_dim` argument to a layer. When using Sequential models, prefer using an `Input(shape)` object as the first layer in the model instead.\n",
      "  super().__init__(activity_regularizer=activity_regularizer, **kwargs)\n"
     ]
    },
    {
     "name": "stdout",
     "output_type": "stream",
     "text": [
      "79/79 - 1s - 11ms/step - loss: 270497.0000 - val_loss: 269622.6875\n",
      "Epoch 2/200\n",
      "79/79 - 0s - 1ms/step - loss: 265618.3438 - val_loss: 261620.8906\n",
      "Epoch 3/200\n",
      "79/79 - 0s - 1ms/step - loss: 254021.6875 - val_loss: 245464.7344\n",
      "Epoch 4/200\n",
      "79/79 - 0s - 1ms/step - loss: 233137.7656 - val_loss: 219284.9844\n",
      "Epoch 5/200\n",
      "79/79 - 0s - 1ms/step - loss: 201609.0312 - val_loss: 182304.9688\n",
      "Epoch 6/200\n",
      "79/79 - 0s - 1ms/step - loss: 161351.6250 - val_loss: 138621.3594\n",
      "Epoch 7/200\n",
      "79/79 - 0s - 1ms/step - loss: 116653.6094 - val_loss: 93645.4688\n",
      "Epoch 8/200\n",
      "79/79 - 0s - 1ms/step - loss: 73767.1094 - val_loss: 54577.4961\n",
      "Epoch 9/200\n",
      "79/79 - 0s - 1ms/step - loss: 39860.2969 - val_loss: 26951.5566\n",
      "Epoch 10/200\n",
      "79/79 - 0s - 1ms/step - loss: 18054.0000 - val_loss: 10891.8613\n",
      "Epoch 11/200\n",
      "79/79 - 0s - 1ms/step - loss: 6992.1016 - val_loss: 4213.4883\n",
      "Epoch 12/200\n",
      "79/79 - 0s - 1ms/step - loss: 2738.4131 - val_loss: 1974.6211\n",
      "Epoch 13/200\n",
      "79/79 - 0s - 1ms/step - loss: 1373.6533 - val_loss: 1259.0269\n",
      "Epoch 14/200\n",
      "79/79 - 0s - 1ms/step - loss: 919.6525 - val_loss: 949.2906\n",
      "Epoch 15/200\n",
      "79/79 - 0s - 1ms/step - loss: 689.5181 - val_loss: 723.3650\n",
      "Epoch 16/200\n",
      "79/79 - 0s - 1ms/step - loss: 525.2849 - val_loss: 552.9016\n",
      "Epoch 17/200\n",
      "79/79 - 0s - 1ms/step - loss: 404.5295 - val_loss: 419.6941\n",
      "Epoch 18/200\n",
      "79/79 - 0s - 1ms/step - loss: 310.9707 - val_loss: 327.5240\n",
      "Epoch 19/200\n",
      "79/79 - 0s - 1ms/step - loss: 254.8734 - val_loss: 277.4310\n",
      "Epoch 20/200\n",
      "79/79 - 0s - 1ms/step - loss: 227.6577 - val_loss: 252.2784\n",
      "Epoch 21/200\n",
      "79/79 - 0s - 1ms/step - loss: 214.7849 - val_loss: 241.0635\n",
      "Epoch 22/200\n",
      "79/79 - 0s - 1ms/step - loss: 208.1719 - val_loss: 233.2497\n",
      "Epoch 23/200\n",
      "79/79 - 0s - 1ms/step - loss: 203.8427 - val_loss: 229.0936\n",
      "Epoch 24/200\n",
      "79/79 - 0s - 1ms/step - loss: 201.6404 - val_loss: 226.3994\n",
      "Epoch 25/200\n",
      "79/79 - 0s - 1ms/step - loss: 200.3375 - val_loss: 224.5195\n",
      "Epoch 26/200\n",
      "79/79 - 0s - 1ms/step - loss: 198.8490 - val_loss: 222.7026\n",
      "Epoch 27/200\n",
      "79/79 - 0s - 1ms/step - loss: 198.1429 - val_loss: 221.0679\n",
      "Epoch 28/200\n",
      "79/79 - 0s - 1ms/step - loss: 196.9893 - val_loss: 220.7036\n",
      "Epoch 29/200\n",
      "79/79 - 0s - 1ms/step - loss: 196.0489 - val_loss: 219.7151\n",
      "Epoch 30/200\n",
      "79/79 - 0s - 963us/step - loss: 194.9111 - val_loss: 221.1630\n",
      "Epoch 31/200\n",
      "79/79 - 0s - 1ms/step - loss: 195.1249 - val_loss: 218.2326\n",
      "Epoch 32/200\n",
      "79/79 - 0s - 1ms/step - loss: 194.1135 - val_loss: 217.7849\n",
      "Epoch 33/200\n",
      "79/79 - 0s - 1ms/step - loss: 194.0213 - val_loss: 216.6164\n",
      "Epoch 34/200\n",
      "79/79 - 0s - 1ms/step - loss: 193.3277 - val_loss: 215.8140\n",
      "Epoch 35/200\n",
      "79/79 - 0s - 1ms/step - loss: 193.3905 - val_loss: 215.3503\n",
      "Epoch 36/200\n",
      "79/79 - 0s - 1ms/step - loss: 191.8737 - val_loss: 215.1795\n",
      "Epoch 37/200\n",
      "79/79 - 0s - 1ms/step - loss: 191.7086 - val_loss: 214.1389\n",
      "Epoch 38/200\n",
      "79/79 - 0s - 1ms/step - loss: 191.5287 - val_loss: 213.6417\n",
      "Epoch 39/200\n",
      "79/79 - 0s - 1ms/step - loss: 190.9944 - val_loss: 213.2823\n",
      "Epoch 40/200\n",
      "79/79 - 0s - 1ms/step - loss: 190.8323 - val_loss: 212.6833\n",
      "Epoch 41/200\n",
      "79/79 - 0s - 1ms/step - loss: 190.3567 - val_loss: 213.1489\n",
      "Epoch 42/200\n",
      "79/79 - 0s - 1ms/step - loss: 189.9149 - val_loss: 211.6997\n",
      "Epoch 43/200\n",
      "79/79 - 0s - 1ms/step - loss: 189.1566 - val_loss: 211.2999\n",
      "Epoch 44/200\n",
      "79/79 - 0s - 1ms/step - loss: 189.1703 - val_loss: 212.4230\n",
      "Epoch 45/200\n",
      "79/79 - 0s - 1ms/step - loss: 188.6427 - val_loss: 210.1598\n",
      "Epoch 46/200\n",
      "79/79 - 0s - 1ms/step - loss: 188.5600 - val_loss: 209.6945\n",
      "Epoch 47/200\n",
      "79/79 - 0s - 1ms/step - loss: 187.4592 - val_loss: 209.1291\n",
      "Epoch 48/200\n",
      "79/79 - 0s - 1ms/step - loss: 187.1336 - val_loss: 208.6305\n",
      "Epoch 49/200\n",
      "79/79 - 0s - 1ms/step - loss: 186.9332 - val_loss: 208.3295\n",
      "Epoch 50/200\n",
      "79/79 - 0s - 1ms/step - loss: 186.9233 - val_loss: 208.0724\n",
      "Epoch 51/200\n",
      "79/79 - 0s - 1ms/step - loss: 186.2639 - val_loss: 207.7236\n",
      "Epoch 52/200\n",
      "79/79 - 0s - 1ms/step - loss: 187.2201 - val_loss: 206.9192\n",
      "Epoch 53/200\n",
      "79/79 - 0s - 1ms/step - loss: 185.8227 - val_loss: 206.6973\n",
      "Epoch 54/200\n",
      "79/79 - 0s - 1ms/step - loss: 184.4183 - val_loss: 206.1185\n",
      "Epoch 55/200\n",
      "79/79 - 0s - 2ms/step - loss: 184.3820 - val_loss: 205.5013\n",
      "Epoch 56/200\n",
      "79/79 - 0s - 1ms/step - loss: 184.6044 - val_loss: 205.2898\n",
      "Epoch 57/200\n",
      "79/79 - 0s - 1ms/step - loss: 184.0622 - val_loss: 205.0251\n",
      "Epoch 58/200\n",
      "79/79 - 0s - 1ms/step - loss: 184.3961 - val_loss: 204.5990\n",
      "Epoch 59/200\n",
      "79/79 - 0s - 971us/step - loss: 183.6993 - val_loss: 205.7243\n",
      "Epoch 60/200\n",
      "79/79 - 0s - 1ms/step - loss: 182.1832 - val_loss: 203.9800\n",
      "Epoch 61/200\n",
      "79/79 - 0s - 1ms/step - loss: 184.8054 - val_loss: 203.2990\n",
      "Epoch 62/200\n",
      "79/79 - 0s - 962us/step - loss: 181.8290 - val_loss: 207.9767\n",
      "Epoch 63/200\n",
      "79/79 - 0s - 1ms/step - loss: 183.4830 - val_loss: 202.6652\n",
      "Epoch 64/200\n",
      "79/79 - 0s - 1ms/step - loss: 180.9721 - val_loss: 202.5963\n",
      "Epoch 65/200\n",
      "79/79 - 0s - 955us/step - loss: 182.4850 - val_loss: 207.4426\n",
      "Epoch 66/200\n",
      "79/79 - 0s - 955us/step - loss: 182.5274 - val_loss: 209.3494\n",
      "Epoch 67/200\n",
      "79/79 - 0s - 985us/step - loss: 182.9419 - val_loss: 207.6907\n",
      "Epoch 68/200\n",
      "79/79 - 0s - 1ms/step - loss: 180.0432 - val_loss: 201.1651\n",
      "Epoch 69/200\n",
      "79/79 - 0s - 1ms/step - loss: 179.8648 - val_loss: 200.3313\n",
      "Epoch 70/200\n",
      "79/79 - 0s - 1ms/step - loss: 179.2369 - val_loss: 199.2040\n",
      "Epoch 71/200\n",
      "79/79 - 0s - 975us/step - loss: 177.9651 - val_loss: 204.2472\n",
      "Epoch 72/200\n",
      "79/79 - 0s - 956us/step - loss: 179.0391 - val_loss: 199.2860\n",
      "Epoch 73/200\n",
      "79/79 - 0s - 1ms/step - loss: 175.4058 - val_loss: 198.1768\n",
      "Epoch 74/200\n",
      "79/79 - 0s - 1ms/step - loss: 175.4451 - val_loss: 195.4949\n",
      "Epoch 75/200\n",
      "79/79 - 0s - 1ms/step - loss: 175.0985 - val_loss: 194.6671\n",
      "Epoch 76/200\n",
      "79/79 - 0s - 1ms/step - loss: 173.0530 - val_loss: 194.6187\n",
      "Epoch 77/200\n",
      "79/79 - 0s - 1ms/step - loss: 173.5223 - val_loss: 193.2782\n",
      "Epoch 78/200\n",
      "79/79 - 0s - 982us/step - loss: 172.7964 - val_loss: 196.0090\n",
      "Epoch 79/200\n",
      "79/79 - 0s - 1ms/step - loss: 174.7209 - val_loss: 192.3733\n",
      "Epoch 80/200\n",
      "79/79 - 0s - 963us/step - loss: 173.2419 - val_loss: 194.6917\n",
      "Epoch 81/200\n",
      "79/79 - 0s - 1ms/step - loss: 172.2374 - val_loss: 191.5704\n",
      "Epoch 82/200\n",
      "79/79 - 0s - 1ms/step - loss: 171.8988 - val_loss: 190.9018\n",
      "Epoch 83/200\n",
      "79/79 - 0s - 1ms/step - loss: 171.6952 - val_loss: 190.5853\n",
      "Epoch 84/200\n",
      "79/79 - 0s - 1ms/step - loss: 170.6026 - val_loss: 191.6279\n",
      "Epoch 85/200\n",
      "79/79 - 0s - 974us/step - loss: 170.5424 - val_loss: 191.7567\n",
      "Epoch 86/200\n",
      "79/79 - 0s - 1ms/step - loss: 171.7459 - val_loss: 189.4251\n",
      "Epoch 87/200\n",
      "79/79 - 0s - 1ms/step - loss: 172.8531 - val_loss: 189.4642\n",
      "Epoch 88/200\n",
      "79/79 - 0s - 1ms/step - loss: 168.8380 - val_loss: 188.7821\n",
      "Epoch 89/200\n",
      "79/79 - 0s - 1ms/step - loss: 170.4132 - val_loss: 188.0632\n",
      "Epoch 90/200\n",
      "79/79 - 0s - 1ms/step - loss: 170.0530 - val_loss: 187.9586\n",
      "Epoch 91/200\n",
      "79/79 - 0s - 1ms/step - loss: 169.6963 - val_loss: 190.8781\n",
      "Epoch 92/200\n",
      "79/79 - 0s - 1ms/step - loss: 169.1511 - val_loss: 187.5674\n",
      "Epoch 93/200\n",
      "79/79 - 0s - 1ms/step - loss: 169.8148 - val_loss: 186.2334\n",
      "Epoch 94/200\n",
      "79/79 - 0s - 1ms/step - loss: 168.0411 - val_loss: 188.0402\n",
      "Epoch 95/200\n",
      "79/79 - 0s - 992us/step - loss: 165.5557 - val_loss: 186.5475\n",
      "Epoch 96/200\n",
      "79/79 - 0s - 1ms/step - loss: 167.2650 - val_loss: 185.9794\n",
      "Epoch 97/200\n",
      "79/79 - 0s - 945us/step - loss: 166.9676 - val_loss: 189.7390\n",
      "Epoch 98/200\n",
      "79/79 - 0s - 1ms/step - loss: 166.0835 - val_loss: 184.9232\n",
      "Epoch 99/200\n",
      "79/79 - 0s - 955us/step - loss: 165.7877 - val_loss: 187.4525\n",
      "Epoch 100/200\n",
      "79/79 - 0s - 1ms/step - loss: 165.3056 - val_loss: 183.9004\n",
      "Epoch 101/200\n",
      "79/79 - 0s - 1ms/step - loss: 164.8367 - val_loss: 185.8465\n",
      "Epoch 102/200\n",
      "79/79 - 0s - 1ms/step - loss: 166.5885 - val_loss: 182.1312\n",
      "Epoch 103/200\n",
      "79/79 - 0s - 963us/step - loss: 165.8389 - val_loss: 184.0275\n",
      "Epoch 104/200\n",
      "79/79 - 0s - 1ms/step - loss: 164.5288 - val_loss: 183.7847\n",
      "Epoch 105/200\n",
      "79/79 - 0s - 1ms/step - loss: 162.8515 - val_loss: 181.7423\n",
      "Epoch 106/200\n",
      "79/79 - 0s - 960us/step - loss: 161.2035 - val_loss: 184.1909\n",
      "Epoch 107/200\n",
      "79/79 - 0s - 1ms/step - loss: 163.3408 - val_loss: 180.4865\n",
      "Epoch 108/200\n",
      "79/79 - 0s - 975us/step - loss: 160.7163 - val_loss: 181.5229\n",
      "Epoch 109/200\n",
      "79/79 - 0s - 1ms/step - loss: 163.8997 - val_loss: 179.4949\n",
      "Epoch 110/200\n",
      "79/79 - 0s - 1ms/step - loss: 162.8975 - val_loss: 179.0701\n",
      "Epoch 111/200\n",
      "79/79 - 0s - 1ms/step - loss: 159.6405 - val_loss: 180.8362\n",
      "Epoch 112/200\n",
      "79/79 - 0s - 1ms/step - loss: 161.8365 - val_loss: 193.7661\n",
      "Epoch 113/200\n",
      "79/79 - 0s - 1ms/step - loss: 162.7781 - val_loss: 176.5714\n",
      "Epoch 114/200\n",
      "79/79 - 0s - 1ms/step - loss: 158.4860 - val_loss: 175.8785\n",
      "Epoch 115/200\n",
      "79/79 - 0s - 1ms/step - loss: 160.5211 - val_loss: 175.4812\n",
      "Epoch 116/200\n",
      "79/79 - 0s - 990us/step - loss: 158.4361 - val_loss: 177.5759\n",
      "Epoch 117/200\n",
      "79/79 - 0s - 1ms/step - loss: 157.5504 - val_loss: 174.1597\n",
      "Epoch 118/200\n",
      "79/79 - 0s - 2ms/step - loss: 158.3961 - val_loss: 175.7473\n",
      "Epoch 119/200\n",
      "79/79 - 0s - 1ms/step - loss: 157.6945 - val_loss: 175.2482\n",
      "Epoch 120/200\n",
      "79/79 - 0s - 1ms/step - loss: 158.8574 - val_loss: 176.5875\n",
      "Epoch 121/200\n",
      "79/79 - 0s - 1ms/step - loss: 155.3794 - val_loss: 172.9427\n",
      "Epoch 122/200\n",
      "79/79 - 0s - 1ms/step - loss: 155.4375 - val_loss: 172.6947\n",
      "Epoch 123/200\n",
      "79/79 - 0s - 1ms/step - loss: 156.6941 - val_loss: 171.5207\n",
      "Epoch 124/200\n",
      "79/79 - 0s - 1ms/step - loss: 156.0260 - val_loss: 170.1543\n",
      "Epoch 125/200\n",
      "79/79 - 0s - 1ms/step - loss: 154.9944 - val_loss: 169.7943\n",
      "Epoch 126/200\n",
      "79/79 - 0s - 1ms/step - loss: 154.6979 - val_loss: 170.6737\n",
      "Epoch 127/200\n",
      "79/79 - 0s - 979us/step - loss: 153.7668 - val_loss: 169.9847\n",
      "Epoch 128/200\n",
      "79/79 - 0s - 962us/step - loss: 151.9501 - val_loss: 176.5591\n",
      "Epoch 129/200\n",
      "79/79 - 0s - 1ms/step - loss: 154.7565 - val_loss: 169.1153\n",
      "Epoch 130/200\n",
      "79/79 - 0s - 956us/step - loss: 152.7763 - val_loss: 178.4852\n",
      "Epoch 131/200\n",
      "79/79 - 0s - 1ms/step - loss: 156.5364 - val_loss: 167.1646\n",
      "Epoch 132/200\n",
      "79/79 - 0s - 1ms/step - loss: 153.4174 - val_loss: 165.8508\n",
      "Epoch 133/200\n",
      "79/79 - 0s - 976us/step - loss: 151.2406 - val_loss: 167.9671\n",
      "Epoch 134/200\n",
      "79/79 - 0s - 1ms/step - loss: 150.7348 - val_loss: 165.6519\n",
      "Epoch 135/200\n",
      "79/79 - 0s - 983us/step - loss: 148.6162 - val_loss: 166.2708\n",
      "Epoch 136/200\n",
      "79/79 - 0s - 1ms/step - loss: 150.0066 - val_loss: 163.4872\n",
      "Epoch 137/200\n",
      "79/79 - 0s - 1ms/step - loss: 151.0579 - val_loss: 162.6307\n",
      "Epoch 138/200\n",
      "79/79 - 0s - 1ms/step - loss: 147.4675 - val_loss: 167.7726\n",
      "Epoch 139/200\n",
      "79/79 - 0s - 1ms/step - loss: 150.0412 - val_loss: 161.7649\n",
      "Epoch 140/200\n",
      "79/79 - 0s - 978us/step - loss: 145.9171 - val_loss: 162.6652\n",
      "Epoch 141/200\n",
      "79/79 - 0s - 1ms/step - loss: 145.3333 - val_loss: 160.3763\n",
      "Epoch 142/200\n",
      "79/79 - 0s - 1ms/step - loss: 145.8685 - val_loss: 162.9519\n",
      "Epoch 143/200\n",
      "79/79 - 0s - 1ms/step - loss: 145.0545 - val_loss: 163.3138\n",
      "Epoch 144/200\n",
      "79/79 - 0s - 1ms/step - loss: 144.7551 - val_loss: 158.3476\n",
      "Epoch 145/200\n",
      "79/79 - 0s - 974us/step - loss: 144.0249 - val_loss: 158.5842\n",
      "Epoch 146/200\n",
      "79/79 - 0s - 1ms/step - loss: 143.5241 - val_loss: 157.8902\n",
      "Epoch 147/200\n",
      "79/79 - 0s - 1ms/step - loss: 145.1230 - val_loss: 156.7749\n",
      "Epoch 148/200\n",
      "79/79 - 0s - 951us/step - loss: 142.1821 - val_loss: 161.1742\n",
      "Epoch 149/200\n",
      "79/79 - 0s - 1ms/step - loss: 143.0167 - val_loss: 173.2990\n",
      "Epoch 150/200\n",
      "79/79 - 0s - 1ms/step - loss: 144.6096 - val_loss: 154.7802\n",
      "Epoch 151/200\n",
      "79/79 - 0s - 1ms/step - loss: 141.3378 - val_loss: 158.2809\n",
      "Epoch 152/200\n",
      "79/79 - 0s - 963us/step - loss: 140.5323 - val_loss: 154.9796\n",
      "Epoch 153/200\n",
      "79/79 - 0s - 1ms/step - loss: 140.1196 - val_loss: 152.7707\n",
      "Epoch 154/200\n",
      "79/79 - 0s - 1ms/step - loss: 139.0898 - val_loss: 152.1615\n",
      "Epoch 155/200\n",
      "79/79 - 0s - 1ms/step - loss: 138.4707 - val_loss: 157.6874\n",
      "Epoch 156/200\n",
      "79/79 - 0s - 1ms/step - loss: 137.2011 - val_loss: 150.8911\n",
      "Epoch 157/200\n",
      "79/79 - 0s - 1ms/step - loss: 137.1475 - val_loss: 150.7830\n",
      "Epoch 158/200\n",
      "79/79 - 0s - 1ms/step - loss: 139.6107 - val_loss: 149.6243\n",
      "Epoch 159/200\n",
      "79/79 - 0s - 1ms/step - loss: 137.1814 - val_loss: 149.6080\n",
      "Epoch 160/200\n",
      "79/79 - 0s - 1ms/step - loss: 136.0345 - val_loss: 148.4531\n",
      "Epoch 161/200\n",
      "79/79 - 0s - 1ms/step - loss: 135.6574 - val_loss: 147.7853\n",
      "Epoch 162/200\n",
      "79/79 - 0s - 1ms/step - loss: 134.6580 - val_loss: 146.8649\n",
      "Epoch 163/200\n",
      "79/79 - 0s - 1ms/step - loss: 134.5701 - val_loss: 146.0935\n",
      "Epoch 164/200\n",
      "79/79 - 0s - 996us/step - loss: 132.1272 - val_loss: 147.3694\n",
      "Epoch 165/200\n",
      "79/79 - 0s - 985us/step - loss: 138.1048 - val_loss: 147.8756\n",
      "Epoch 166/200\n",
      "79/79 - 0s - 963us/step - loss: 134.5518 - val_loss: 156.1169\n",
      "Epoch 167/200\n",
      "79/79 - 0s - 1ms/step - loss: 131.6880 - val_loss: 144.7424\n",
      "Epoch 168/200\n",
      "79/79 - 0s - 937us/step - loss: 135.8574 - val_loss: 147.8132\n",
      "Epoch 169/200\n",
      "79/79 - 0s - 2ms/step - loss: 130.3662 - val_loss: 148.8066\n",
      "Epoch 170/200\n",
      "79/79 - 0s - 1ms/step - loss: 132.1824 - val_loss: 142.1118\n",
      "Epoch 171/200\n",
      "79/79 - 0s - 1ms/step - loss: 129.3874 - val_loss: 143.4880\n",
      "Epoch 172/200\n",
      "79/79 - 0s - 1ms/step - loss: 128.9702 - val_loss: 147.7713\n",
      "Epoch 173/200\n",
      "79/79 - 0s - 1ms/step - loss: 129.6308 - val_loss: 141.9342\n",
      "Epoch 174/200\n",
      "79/79 - 0s - 998us/step - loss: 129.9605 - val_loss: 142.2830\n",
      "Epoch 175/200\n",
      "79/79 - 0s - 1ms/step - loss: 125.9804 - val_loss: 141.5927\n",
      "Epoch 176/200\n",
      "79/79 - 0s - 987us/step - loss: 126.6229 - val_loss: 149.5481\n",
      "Epoch 177/200\n",
      "79/79 - 0s - 1ms/step - loss: 126.5057 - val_loss: 141.9388\n",
      "Epoch 178/200\n",
      "79/79 - 0s - 959us/step - loss: 125.8947 - val_loss: 144.5926\n",
      "Epoch 179/200\n",
      "79/79 - 0s - 1ms/step - loss: 126.7005 - val_loss: 135.5682\n",
      "Epoch 180/200\n",
      "79/79 - 0s - 1ms/step - loss: 124.1199 - val_loss: 135.0094\n",
      "Epoch 181/200\n",
      "79/79 - 0s - 1ms/step - loss: 125.8887 - val_loss: 136.0662\n",
      "Epoch 182/200\n",
      "79/79 - 0s - 1ms/step - loss: 124.4484 - val_loss: 133.5146\n",
      "Epoch 183/200\n",
      "79/79 - 0s - 1ms/step - loss: 123.2341 - val_loss: 133.3932\n",
      "Epoch 184/200\n",
      "79/79 - 0s - 1ms/step - loss: 125.9910 - val_loss: 133.0714\n",
      "Epoch 185/200\n",
      "79/79 - 0s - 975us/step - loss: 120.8668 - val_loss: 134.2341\n",
      "Epoch 186/200\n",
      "79/79 - 0s - 1ms/step - loss: 120.6665 - val_loss: 131.3003\n",
      "Epoch 187/200\n",
      "79/79 - 0s - 1ms/step - loss: 123.2905 - val_loss: 141.0250\n",
      "Epoch 188/200\n",
      "79/79 - 0s - 1ms/step - loss: 122.1979 - val_loss: 130.2955\n",
      "Epoch 189/200\n",
      "79/79 - 0s - 960us/step - loss: 119.9852 - val_loss: 142.1058\n",
      "Epoch 190/200\n",
      "79/79 - 0s - 1ms/step - loss: 121.9305 - val_loss: 129.3777\n",
      "Epoch 191/200\n",
      "79/79 - 0s - 1ms/step - loss: 119.9240 - val_loss: 128.0042\n",
      "Epoch 192/200\n",
      "79/79 - 0s - 999us/step - loss: 119.8096 - val_loss: 128.4794\n",
      "Epoch 193/200\n",
      "79/79 - 0s - 1ms/step - loss: 117.6950 - val_loss: 128.2540\n",
      "Epoch 194/200\n",
      "79/79 - 0s - 1ms/step - loss: 119.0979 - val_loss: 129.8589\n",
      "Epoch 195/200\n",
      "79/79 - 0s - 1ms/step - loss: 117.0516 - val_loss: 125.8984\n",
      "Epoch 196/200\n",
      "79/79 - 0s - 1ms/step - loss: 115.9406 - val_loss: 130.4404\n",
      "Epoch 197/200\n",
      "79/79 - 0s - 994us/step - loss: 117.9527 - val_loss: 126.3251\n",
      "Epoch 198/200\n",
      "79/79 - 0s - 1ms/step - loss: 117.5348 - val_loss: 124.6288\n",
      "Epoch 199/200\n",
      "79/79 - 0s - 1ms/step - loss: 114.5064 - val_loss: 123.6230\n",
      "Epoch 200/200\n",
      "79/79 - 0s - 1ms/step - loss: 115.4611 - val_loss: 132.3790\n",
      "\u001b[1m34/34\u001b[0m \u001b[32m━━━━━━━━━━━━━━━━━━━━\u001b[0m\u001b[37m\u001b[0m \u001b[1m0s\u001b[0m 1ms/step \n",
      "Score_test (RMSE): 11.505607604980469\n",
      "Regression Lift Chart\n"
     ]
    },
    {
     "data": {
      "image/png": "[encoded data removed]",
      "text/plain": [
       "<Figure size 640x480 with 1 Axes>"
      ]
     },
     "metadata": {},
     "output_type": "display_data"
    }
   ],
   "source": [
    "model = Sequential()\n",
    "model.add(Dense(10, input_dim = x_train.shape[1], activation = 'relu'))\n",
    "model.add(Dense(5, activation = 'relu'))\n",
    "model.add(Dense(1))\n",
    "model.compile(loss = 'mean_squared_error', optimizer = 'adam')\n",
    "\n",
    "monitor = EarlyStopping(monitor = 'val_loss', min_delta = 1e-3, patience = 5, verbose = 1, mode = 'auto')\n",
    "checkpointer = ModelCheckpoint(filepath = \"best_weights.keras\", verbose = 0, save_best_only = True)\n",
    "\n",
    "\n",
    "model.fit(x_train, y_train, validation_data = (x_test, y_test), callbacks = [monitor, checkpointer], verbose = 2, epochs = 200)\n",
    "\n",
    "#model.load_weights('best_weights.keras')\n",
    "\n",
    "\n",
    "pred_test = model.predict(x_test)\n",
    "score_test = np.sqrt(metrics.mean_squared_error(pred_test, y_test))\n",
    "print(\"Score_test (RMSE): {}\".format(score_test))\n",
    "\n",
    "# Chart_regression\n",
    "print(\"Regression Lift Chart\")\n",
    "chart_regression(pred_test.flatten(), y_test, sort = True)"
   ]
  },
  {
   "cell_type": "markdown",
   "metadata": {},
   "source": [
    "# CNN"
   ]
  },
  {
   "cell_type": "code",
   "execution_count": 133,
   "metadata": {},
   "outputs": [
    {
     "name": "stdout",
     "output_type": "stream",
     "text": [
      "(3571, 7, 5)\n",
      "(3571, 1)\n",
      "(2499, 7, 5)\n",
      "(1072, 1)\n",
      "(2499, 1)\n"
     ]
    }
   ],
   "source": [
    "# Create rolling window of size 7\n",
    "window_size = 7\n",
    "X = []\n",
    "y = []\n",
    "for i in range(window_size, len(data)):\n",
    "    X.append(data[i-window_size:i])\n",
    "X = np.array(X)\n",
    "y = np.array(data_out[0:len(X)].values, dtype = np.float32)\n",
    "\n",
    "print(X.shape)\n",
    "print(y.shape)\n",
    "\n",
    "# Split data into training and testing sets\n",
    "X_train, X_test, y_train, y_test = train_test_split(X, y, test_size=0.3, random_state=42)\n",
    "print(X_train.shape)\n",
    "\n",
    "print(y_test.shape)\n",
    "print(y_train.shape)"
   ]
  },
  {
   "cell_type": "markdown",
   "metadata": {},
   "source": [
    "# CNN Model Training"
   ]
  },
  {
   "cell_type": "code",
   "execution_count": 134,
   "metadata": {},
   "outputs": [
    {
     "name": "stderr",
     "output_type": "stream",
     "text": [
      "c:\\Users\\Illya\\anaconda3\\Lib\\site-packages\\keras\\src\\layers\\convolutional\\base_conv.py:107: UserWarning: Do not pass an `input_shape`/`input_dim` argument to a layer. When using Sequential models, prefer using an `Input(shape)` object as the first layer in the model instead.\n",
      "  super().__init__(activity_regularizer=activity_regularizer, **kwargs)\n"
     ]
    },
    {
     "data": {
      "text/html": [
       "<pre style=\"white-space:pre;overflow-x:auto;line-height:normal;font-family:Menlo,'DejaVu Sans Mono',consolas,'Courier New',monospace\"><span style=\"font-weight: bold\">Model: \"sequential_42\"</span>\n",
       "</pre>\n"
      ],
      "text/plain": [
       "\u001b[1mModel: \"sequential_42\"\u001b[0m\n"
      ]
     },
     "metadata": {},
     "output_type": "display_data"
    },
    {
     "data": {
      "text/html": [
       "<pre style=\"white-space:pre;overflow-x:auto;line-height:normal;font-family:Menlo,'DejaVu Sans Mono',consolas,'Courier New',monospace\">┏━━━━━━━━━━━━━━━━━━━━━━━━━━━━━━━━━┳━━━━━━━━━━━━━━━━━━━━━━━━┳━━━━━━━━━━━━━━━┓\n",
       "┃<span style=\"font-weight: bold\"> Layer (type)                    </span>┃<span style=\"font-weight: bold\"> Output Shape           </span>┃<span style=\"font-weight: bold\">       Param # </span>┃\n",
       "┡━━━━━━━━━━━━━━━━━━━━━━━━━━━━━━━━━╇━━━━━━━━━━━━━━━━━━━━━━━━╇━━━━━━━━━━━━━━━┩\n",
       "│ conv1d_1 (<span style=\"color: #0087ff; text-decoration-color: #0087ff\">Conv1D</span>)               │ (<span style=\"color: #00d7ff; text-decoration-color: #00d7ff\">None</span>, <span style=\"color: #00af00; text-decoration-color: #00af00\">5</span>, <span style=\"color: #00af00; text-decoration-color: #00af00\">128</span>)         │         <span style=\"color: #00af00; text-decoration-color: #00af00\">2,048</span> │\n",
       "├─────────────────────────────────┼────────────────────────┼───────────────┤\n",
       "│ max_pooling1d_1 (<span style=\"color: #0087ff; text-decoration-color: #0087ff\">MaxPooling1D</span>)  │ (<span style=\"color: #00d7ff; text-decoration-color: #00d7ff\">None</span>, <span style=\"color: #00af00; text-decoration-color: #00af00\">2</span>, <span style=\"color: #00af00; text-decoration-color: #00af00\">128</span>)         │             <span style=\"color: #00af00; text-decoration-color: #00af00\">0</span> │\n",
       "├─────────────────────────────────┼────────────────────────┼───────────────┤\n",
       "│ dropout_4 (<span style=\"color: #0087ff; text-decoration-color: #0087ff\">Dropout</span>)             │ (<span style=\"color: #00d7ff; text-decoration-color: #00d7ff\">None</span>, <span style=\"color: #00af00; text-decoration-color: #00af00\">2</span>, <span style=\"color: #00af00; text-decoration-color: #00af00\">128</span>)         │             <span style=\"color: #00af00; text-decoration-color: #00af00\">0</span> │\n",
       "├─────────────────────────────────┼────────────────────────┼───────────────┤\n",
       "│ flatten_1 (<span style=\"color: #0087ff; text-decoration-color: #0087ff\">Flatten</span>)             │ (<span style=\"color: #00d7ff; text-decoration-color: #00d7ff\">None</span>, <span style=\"color: #00af00; text-decoration-color: #00af00\">256</span>)            │             <span style=\"color: #00af00; text-decoration-color: #00af00\">0</span> │\n",
       "├─────────────────────────────────┼────────────────────────┼───────────────┤\n",
       "│ dense_131 (<span style=\"color: #0087ff; text-decoration-color: #0087ff\">Dense</span>)               │ (<span style=\"color: #00d7ff; text-decoration-color: #00d7ff\">None</span>, <span style=\"color: #00af00; text-decoration-color: #00af00\">50</span>)             │        <span style=\"color: #00af00; text-decoration-color: #00af00\">12,850</span> │\n",
       "├─────────────────────────────────┼────────────────────────┼───────────────┤\n",
       "│ dense_132 (<span style=\"color: #0087ff; text-decoration-color: #0087ff\">Dense</span>)               │ (<span style=\"color: #00d7ff; text-decoration-color: #00d7ff\">None</span>, <span style=\"color: #00af00; text-decoration-color: #00af00\">1</span>)              │            <span style=\"color: #00af00; text-decoration-color: #00af00\">51</span> │\n",
       "└─────────────────────────────────┴────────────────────────┴───────────────┘\n",
       "</pre>\n"
      ],
      "text/plain": [
       "┏━━━━━━━━━━━━━━━━━━━━━━━━━━━━━━━━━┳━━━━━━━━━━━━━━━━━━━━━━━━┳━━━━━━━━━━━━━━━┓\n",
       "┃\u001b[1m \u001b[0m\u001b[1mLayer (type)                   \u001b[0m\u001b[1m \u001b[0m┃\u001b[1m \u001b[0m\u001b[1mOutput Shape          \u001b[0m\u001b[1m \u001b[0m┃\u001b[1m \u001b[0m\u001b[1m      Param #\u001b[0m\u001b[1m \u001b[0m┃\n",
       "┡━━━━━━━━━━━━━━━━━━━━━━━━━━━━━━━━━╇━━━━━━━━━━━━━━━━━━━━━━━━╇━━━━━━━━━━━━━━━┩\n",
       "│ conv1d_1 (\u001b[38;5;33mConv1D\u001b[0m)               │ (\u001b[38;5;45mNone\u001b[0m, \u001b[38;5;34m5\u001b[0m, \u001b[38;5;34m128\u001b[0m)         │         \u001b[38;5;34m2,048\u001b[0m │\n",
       "├─────────────────────────────────┼────────────────────────┼───────────────┤\n",
       "│ max_pooling1d_1 (\u001b[38;5;33mMaxPooling1D\u001b[0m)  │ (\u001b[38;5;45mNone\u001b[0m, \u001b[38;5;34m2\u001b[0m, \u001b[38;5;34m128\u001b[0m)         │             \u001b[38;5;34m0\u001b[0m │\n",
       "├─────────────────────────────────┼────────────────────────┼───────────────┤\n",
       "│ dropout_4 (\u001b[38;5;33mDropout\u001b[0m)             │ (\u001b[38;5;45mNone\u001b[0m, \u001b[38;5;34m2\u001b[0m, \u001b[38;5;34m128\u001b[0m)         │             \u001b[38;5;34m0\u001b[0m │\n",
       "├─────────────────────────────────┼────────────────────────┼───────────────┤\n",
       "│ flatten_1 (\u001b[38;5;33mFlatten\u001b[0m)             │ (\u001b[38;5;45mNone\u001b[0m, \u001b[38;5;34m256\u001b[0m)            │             \u001b[38;5;34m0\u001b[0m │\n",
       "├─────────────────────────────────┼────────────────────────┼───────────────┤\n",
       "│ dense_131 (\u001b[38;5;33mDense\u001b[0m)               │ (\u001b[38;5;45mNone\u001b[0m, \u001b[38;5;34m50\u001b[0m)             │        \u001b[38;5;34m12,850\u001b[0m │\n",
       "├─────────────────────────────────┼────────────────────────┼───────────────┤\n",
       "│ dense_132 (\u001b[38;5;33mDense\u001b[0m)               │ (\u001b[38;5;45mNone\u001b[0m, \u001b[38;5;34m1\u001b[0m)              │            \u001b[38;5;34m51\u001b[0m │\n",
       "└─────────────────────────────────┴────────────────────────┴───────────────┘\n"
      ]
     },
     "metadata": {},
     "output_type": "display_data"
    },
    {
     "data": {
      "text/html": [
       "<pre style=\"white-space:pre;overflow-x:auto;line-height:normal;font-family:Menlo,'DejaVu Sans Mono',consolas,'Courier New',monospace\"><span style=\"font-weight: bold\"> Total params: </span><span style=\"color: #00af00; text-decoration-color: #00af00\">14,949</span> (58.39 KB)\n",
       "</pre>\n"
      ],
      "text/plain": [
       "\u001b[1m Total params: \u001b[0m\u001b[38;5;34m14,949\u001b[0m (58.39 KB)\n"
      ]
     },
     "metadata": {},
     "output_type": "display_data"
    },
    {
     "data": {
      "text/html": [
       "<pre style=\"white-space:pre;overflow-x:auto;line-height:normal;font-family:Menlo,'DejaVu Sans Mono',consolas,'Courier New',monospace\"><span style=\"font-weight: bold\"> Trainable params: </span><span style=\"color: #00af00; text-decoration-color: #00af00\">14,949</span> (58.39 KB)\n",
       "</pre>\n"
      ],
      "text/plain": [
       "\u001b[1m Trainable params: \u001b[0m\u001b[38;5;34m14,949\u001b[0m (58.39 KB)\n"
      ]
     },
     "metadata": {},
     "output_type": "display_data"
    },
    {
     "data": {
      "text/html": [
       "<pre style=\"white-space:pre;overflow-x:auto;line-height:normal;font-family:Menlo,'DejaVu Sans Mono',consolas,'Courier New',monospace\"><span style=\"font-weight: bold\"> Non-trainable params: </span><span style=\"color: #00af00; text-decoration-color: #00af00\">0</span> (0.00 B)\n",
       "</pre>\n"
      ],
      "text/plain": [
       "\u001b[1m Non-trainable params: \u001b[0m\u001b[38;5;34m0\u001b[0m (0.00 B)\n"
      ]
     },
     "metadata": {},
     "output_type": "display_data"
    },
    {
     "name": "stdout",
     "output_type": "stream",
     "text": [
      "Epoch 1/50\n",
      "79/79 - 1s - 13ms/step - loss: 249333.0625 - val_loss: 192071.5312\n",
      "Epoch 2/50\n",
      "79/79 - 0s - 2ms/step - loss: 78835.9062 - val_loss: 4450.1782\n",
      "Epoch 3/50\n",
      "79/79 - 0s - 2ms/step - loss: 2560.4353 - val_loss: 1600.6721\n",
      "Epoch 4/50\n",
      "79/79 - 0s - 2ms/step - loss: 1288.3694 - val_loss: 643.4565\n",
      "Epoch 5/50\n",
      "79/79 - 0s - 2ms/step - loss: 771.3554 - val_loss: 251.0807\n",
      "Epoch 6/50\n",
      "79/79 - 0s - 2ms/step - loss: 556.9202 - val_loss: 131.1356\n",
      "Epoch 7/50\n",
      "79/79 - 0s - 2ms/step - loss: 475.4338 - val_loss: 109.2969\n",
      "Epoch 8/50\n",
      "79/79 - 0s - 2ms/step - loss: 451.2729 - val_loss: 107.8098\n",
      "Epoch 9/50\n",
      "79/79 - 0s - 2ms/step - loss: 454.2448 - val_loss: 106.1704\n",
      "Epoch 10/50\n",
      "79/79 - 0s - 2ms/step - loss: 448.1158 - val_loss: 109.0741\n",
      "Epoch 11/50\n",
      "79/79 - 0s - 2ms/step - loss: 455.0424 - val_loss: 106.4716\n",
      "Epoch 12/50\n",
      "79/79 - 0s - 2ms/step - loss: 434.3820 - val_loss: 103.1232\n",
      "Epoch 13/50\n",
      "79/79 - 0s - 2ms/step - loss: 487.7527 - val_loss: 103.3354\n",
      "Epoch 14/50\n",
      "79/79 - 0s - 2ms/step - loss: 476.0703 - val_loss: 106.5223\n",
      "Epoch 15/50\n",
      "79/79 - 0s - 2ms/step - loss: 425.5742 - val_loss: 99.9968\n",
      "Epoch 16/50\n",
      "79/79 - 0s - 2ms/step - loss: 486.6701 - val_loss: 100.8827\n",
      "Epoch 17/50\n",
      "79/79 - 0s - 2ms/step - loss: 504.4280 - val_loss: 100.1793\n",
      "Epoch 18/50\n",
      "79/79 - 0s - 2ms/step - loss: 430.1086 - val_loss: 98.8641\n",
      "Epoch 19/50\n",
      "79/79 - 0s - 2ms/step - loss: 502.6686 - val_loss: 105.0710\n",
      "Epoch 20/50\n",
      "79/79 - 0s - 2ms/step - loss: 440.4814 - val_loss: 99.0823\n",
      "Epoch 21/50\n",
      "79/79 - 0s - 2ms/step - loss: 433.3694 - val_loss: 147.3108\n",
      "Epoch 22/50\n",
      "79/79 - 0s - 2ms/step - loss: 466.2859 - val_loss: 108.4615\n",
      "Epoch 23/50\n",
      "79/79 - 0s - 2ms/step - loss: 503.2980 - val_loss: 110.3482\n",
      "Epoch 24/50\n",
      "79/79 - 0s - 2ms/step - loss: 456.7624 - val_loss: 100.9324\n",
      "Epoch 25/50\n",
      "79/79 - 0s - 2ms/step - loss: 444.9522 - val_loss: 96.9442\n",
      "Epoch 26/50\n",
      "79/79 - 0s - 2ms/step - loss: 425.0251 - val_loss: 104.3682\n",
      "Epoch 27/50\n",
      "79/79 - 0s - 2ms/step - loss: 465.5738 - val_loss: 106.0320\n",
      "Epoch 28/50\n",
      "79/79 - 0s - 2ms/step - loss: 477.4519 - val_loss: 107.6895\n",
      "Epoch 29/50\n",
      "79/79 - 0s - 2ms/step - loss: 438.5264 - val_loss: 106.9486\n",
      "Epoch 30/50\n",
      "79/79 - 0s - 2ms/step - loss: 441.5873 - val_loss: 103.8898\n",
      "Epoch 31/50\n",
      "79/79 - 0s - 2ms/step - loss: 473.8122 - val_loss: 111.4829\n",
      "Epoch 32/50\n",
      "79/79 - 0s - 2ms/step - loss: 427.2412 - val_loss: 109.4246\n",
      "Epoch 33/50\n",
      "79/79 - 0s - 2ms/step - loss: 451.9883 - val_loss: 95.4028\n",
      "Epoch 34/50\n",
      "79/79 - 0s - 2ms/step - loss: 443.3429 - val_loss: 96.9118\n",
      "Epoch 35/50\n",
      "79/79 - 0s - 2ms/step - loss: 459.6111 - val_loss: 100.7271\n",
      "Epoch 36/50\n",
      "79/79 - 0s - 2ms/step - loss: 461.1827 - val_loss: 95.0472\n",
      "Epoch 37/50\n",
      "79/79 - 0s - 2ms/step - loss: 485.5490 - val_loss: 109.0694\n",
      "Epoch 38/50\n",
      "79/79 - 0s - 2ms/step - loss: 492.4747 - val_loss: 94.4640\n",
      "Epoch 39/50\n",
      "79/79 - 0s - 2ms/step - loss: 473.4671 - val_loss: 121.8673\n",
      "Epoch 40/50\n",
      "79/79 - 0s - 1ms/step - loss: 482.5314 - val_loss: 97.0964\n",
      "Epoch 41/50\n",
      "79/79 - 0s - 2ms/step - loss: 451.4240 - val_loss: 105.3561\n",
      "Epoch 42/50\n",
      "79/79 - 0s - 2ms/step - loss: 442.3588 - val_loss: 95.0566\n",
      "Epoch 43/50\n",
      "79/79 - 0s - 2ms/step - loss: 495.7863 - val_loss: 94.9574\n",
      "Epoch 44/50\n",
      "79/79 - 0s - 2ms/step - loss: 478.7516 - val_loss: 92.6959\n",
      "Epoch 45/50\n",
      "79/79 - 0s - 2ms/step - loss: 459.0891 - val_loss: 102.9579\n",
      "Epoch 46/50\n",
      "79/79 - 0s - 2ms/step - loss: 463.9679 - val_loss: 96.5073\n",
      "Epoch 47/50\n",
      "79/79 - 0s - 2ms/step - loss: 460.6123 - val_loss: 122.7842\n",
      "Epoch 48/50\n",
      "79/79 - 0s - 2ms/step - loss: 441.5418 - val_loss: 93.5362\n",
      "Epoch 49/50\n",
      "79/79 - 0s - 2ms/step - loss: 467.1658 - val_loss: 130.1821\n",
      "Epoch 50/50\n",
      "79/79 - 0s - 2ms/step - loss: 438.2751 - val_loss: 107.8593\n"
     ]
    },
    {
     "data": {
      "text/plain": [
       "<keras.src.callbacks.history.History at 0x26713e4d820>"
      ]
     },
     "execution_count": 134,
     "metadata": {},
     "output_type": "execute_result"
    }
   ],
   "source": [
    "from tensorflow.keras.models import Sequential\n",
    "from tensorflow.keras.layers import Dense, Dropout, Conv1D, MaxPooling1D, Flatten\n",
    "\n",
    "model = Sequential()\n",
    "model.add(Conv1D(filters=128, kernel_size=3, activation='relu', input_shape=(7, 5)))\n",
    "model.add(MaxPooling1D(pool_size=2))\n",
    "model.add(Dropout(0.2))\n",
    "model.add(Flatten())\n",
    "model.add(Dense(50, activation='relu'))\n",
    "model.add(Dense(1)) \n",
    "\n",
    "model.summary()\n",
    "\n",
    "checkpoint = ModelCheckpoint(filepath=\"cnn_relu.keras\", verbose=1, save_best_only=True) \n",
    "model.compile(loss='mean_squared_error', optimizer='adam')\n",
    "monitor = EarlyStopping(monitor='val_loss', min_delta=1e-5, patience=20, verbose=1, mode='auto')\n",
    "\n",
    "model.fit(X_train, y_train, epochs=50, batch_size=32, validation_data=(X_test, y_test), verbose=2)\n"
   ]
  },
  {
   "cell_type": "code",
   "execution_count": 135,
   "metadata": {},
   "outputs": [
    {
     "name": "stdout",
     "output_type": "stream",
     "text": [
      "\u001b[1m34/34\u001b[0m \u001b[32m━━━━━━━━━━━━━━━━━━━━\u001b[0m\u001b[37m\u001b[0m \u001b[1m0s\u001b[0m 2ms/step\n"
     ]
    },
    {
     "data": {
      "text/plain": [
       "array([[191.38133],\n",
       "       [292.82315],\n",
       "       [230.90062],\n",
       "       ...,\n",
       "       [199.57181],\n",
       "       [280.42657],\n",
       "       [139.19566]], dtype=float32)"
      ]
     },
     "execution_count": 135,
     "metadata": {},
     "output_type": "execute_result"
    }
   ],
   "source": [
    "y_pred=model.predict(X_test)\n",
    "y_pred"
   ]
  },
  {
   "cell_type": "code",
   "execution_count": 136,
   "metadata": {},
   "outputs": [
    {
     "data": {
      "text/plain": [
       "(1072, 7, 5)"
      ]
     },
     "execution_count": 136,
     "metadata": {},
     "output_type": "execute_result"
    }
   ],
   "source": [
    "X_test.shape\n"
   ]
  },
  {
   "cell_type": "code",
   "execution_count": 137,
   "metadata": {},
   "outputs": [
    {
     "data": {
      "text/plain": [
       "(1072,)"
      ]
     },
     "execution_count": 137,
     "metadata": {},
     "output_type": "execute_result"
    }
   ],
   "source": [
    "array=[]\n",
    "for i in range(1072):\n",
    "    array.append(i)\n",
    "array=np.array(array)\n",
    "array.shape"
   ]
  },
  {
   "cell_type": "markdown",
   "metadata": {},
   "source": [
    "# CNN Regression Lift Chart"
   ]
  },
  {
   "cell_type": "code",
   "execution_count": 138,
   "metadata": {},
   "outputs": [
    {
     "name": "stdout",
     "output_type": "stream",
     "text": [
      "RMSE:10.385533332824707\n"
     ]
    },
    {
     "data": {
      "image/png": "[encoded data removed]",
      "text/plain": [
       "<Figure size 640x480 with 1 Axes>"
      ]
     },
     "metadata": {},
     "output_type": "display_data"
    }
   ],
   "source": [
    "from sklearn.metrics import mean_squared_error as mse\n",
    "rmse_cnn=np.sqrt(mse(y_test,y_pred))\n",
    "print(f\"RMSE:{rmse_cnn}\")\n",
    "chart_regression(y_pred.flatten(),y_test.flatten(), sort=True)\n"
   ]
  },
  {
   "cell_type": "markdown",
   "metadata": {},
   "source": [
    "# LSTM Model"
   ]
  },
  {
   "cell_type": "code",
   "execution_count": 150,
   "metadata": {},
   "outputs": [],
   "source": [
    "import pandas as pd\n",
    "import numpy as np\n",
    "import tensorflow as tf\n",
    "\n",
    "%matplotlib inline\n",
    "\n",
    "from collections.abc import Sequence\n",
    "import matplotlib.pyplot as plt\n",
    "import os\n",
    "\n",
    "from sklearn.model_selection import train_test_split\n",
    "from tensorflow.keras.models import Sequential\n",
    "from tensorflow.keras.layers import Dense, Activation, LSTM\n",
    "from tensorflow.keras.callbacks import EarlyStopping, ModelCheckpoint, TensorBoard\n",
    "from tensorflow.keras import optimizers\n",
    "from sklearn import metrics\n",
    "import datetime\n"
   ]
  },
  {
   "cell_type": "markdown",
   "metadata": {},
   "source": [
    "load data file"
   ]
  },
  {
   "cell_type": "code",
   "execution_count": 151,
   "metadata": {},
   "outputs": [
    {
     "name": "stdout",
     "output_type": "stream",
     "text": [
      "         Date       Open       High        Low      Close  Adj Close    Volume\n",
      "0  2004-08-19  49.676899  51.693783  47.669952  49.845802  49.845802  44994500\n",
      "1  2004-08-20  50.178635  54.187561  49.925285  53.805050  53.805050  23005800\n",
      "2  2004-08-23  55.017166  56.373344  54.172661  54.346527  54.346527  18393200\n",
      "3  2004-08-24  55.260582  55.439419  51.450363  52.096165  52.096165  15361800\n",
      "4  2004-08-25  52.140873  53.651051  51.604362  52.657513  52.657513   9257400\n",
      "            Date         Open         High          Low        Close  \\\n",
      "3573  2018-10-26  1037.030029  1106.530029  1034.089966  1071.469971   \n",
      "3574  2018-10-29  1082.469971  1097.040039   995.830017  1020.080017   \n",
      "3575  2018-10-30  1008.460022  1037.489990  1000.750000  1036.209961   \n",
      "3576  2018-10-31  1059.810059  1091.939941  1057.000000  1076.770020   \n",
      "3577  2018-11-01  1075.800049  1083.974976  1062.459961  1070.000000   \n",
      "\n",
      "        Adj Close   Volume  \n",
      "3573  1071.469971  4187600  \n",
      "3574  1020.080017  3880700  \n",
      "3575  1036.209961  3212700  \n",
      "3576  1076.770020  2529800  \n",
      "3577  1070.000000  1461600  \n",
      "\n",
      "Number of columns and row:\n",
      "Data:  (3578, 7)\n"
     ]
    }
   ],
   "source": [
    "df_rnn = pd.read_csv('GOOG.csv')\n",
    "\n",
    "# Print first and last 5 rows in new csv file\n",
    "print(df_rnn.head())\n",
    "print(df_rnn.tail())\n",
    "\n",
    "print(\"\\nNumber of columns and row:\")\n",
    "print(\"Data: \", df_rnn.shape)\n"
   ]
  },
  {
   "cell_type": "markdown",
   "metadata": {},
   "source": [
    "check for missing values, drop columns Date and Adj close"
   ]
  },
  {
   "cell_type": "code",
   "execution_count": 152,
   "metadata": {},
   "outputs": [
    {
     "name": "stdout",
     "output_type": "stream",
     "text": [
      "        Open       High        Low      Close    Volume\n",
      "0  49.676899  51.693783  47.669952  49.845802  44994500\n",
      "1  50.178635  54.187561  49.925285  53.805050  23005800\n",
      "2  55.017166  56.373344  54.172661  54.346527  18393200\n",
      "3  55.260582  55.439419  51.450363  52.096165  15361800\n",
      "4  52.140873  53.651051  51.604362  52.657513   9257400\n",
      "\n",
      "Number of columns and row currently:\n",
      "Data:  (3578, 5)\n",
      "\n",
      "count of NaN in each column\n",
      "Open      0\n",
      "High      0\n",
      "Low       0\n",
      "Close     0\n",
      "Volume    0\n",
      "dtype: int64\n"
     ]
    }
   ],
   "source": [
    "# Storing in a different dataframe before dropping the columns\n",
    "df_new = df_rnn\n",
    "\n",
    "# Check for null values and drop them\n",
    "df_new.isnull().all(axis=1)\n",
    "df_new = df_new.dropna()\n",
    "\n",
    "# Dropping the columns Date and Adj_Close\n",
    "df_new = df_new.drop(['Date', 'Adj Close'], axis = 1)\n",
    "\n",
    "# Print first 5 rows of new data frame\n",
    "print(df_new.head())\n",
    "\n",
    "print(\"\\nNumber of columns and row currently:\")\n",
    "print(\"Data: \", df_new.shape)\n",
    "\n",
    "# Count of NaN in each column\n",
    "print(\"\\ncount of NaN in each column\")\n",
    "print(df_new.isnull().sum())"
   ]
  },
  {
   "cell_type": "code",
   "execution_count": 153,
   "metadata": {},
   "outputs": [
    {
     "name": "stdout",
     "output_type": "stream",
     "text": [
      "        Open       High        Low      Close    Volume  Copy_Close\n",
      "0  49.676899  51.693783  47.669952  49.845802  44994500   49.845802\n",
      "1  50.178635  54.187561  49.925285  53.805050  23005800   53.805050\n",
      "2  55.017166  56.373344  54.172661  54.346527  18393200   54.346527\n",
      "3  55.260582  55.439419  51.450363  52.096165  15361800   52.096165\n",
      "4  52.140873  53.651051  51.604362  52.657513   9257400   52.657513\n",
      "\n",
      "Number of columns and rows currently:\n",
      "Data:  (3578, 6)\n"
     ]
    }
   ],
   "source": [
    "# create a copy of close column\n",
    "df_new['Copy_Close'] = df_new['Close']\n",
    "\n",
    "# Print first 5 rows\n",
    "print(df_new.head())\n",
    "\n",
    "print(\"\\nNumber of columns and rows currently:\")\n",
    "print(\"Data: \", df_new.shape)"
   ]
  },
  {
   "cell_type": "markdown",
   "metadata": {},
   "source": [
    "normalize numerical features"
   ]
  },
  {
   "cell_type": "code",
   "execution_count": 154,
   "metadata": {},
   "outputs": [
    {
     "name": "stdout",
     "output_type": "stream",
     "text": [
      "       Open      High       Low     Close    Volume  Copy_Close\n",
      "0 -1.334844 -1.331443 -1.337457 -1.333645  4.533247   49.845802\n",
      "1 -1.333101 -1.322843 -1.329562 -1.319893  1.870138   53.805050\n",
      "2 -1.316291 -1.315305 -1.314693 -1.318012  1.311494   54.346527\n",
      "3 -1.315446 -1.318526 -1.324223 -1.325828  0.944353   52.096165\n",
      "4 -1.326284 -1.324693 -1.323684 -1.323879  0.205033   52.657513\n"
     ]
    }
   ],
   "source": [
    "# Normalizing all the columns except last column Copy_Close\n",
    "for column in df_new.columns:\n",
    "  if  column != 'Copy_Close':\n",
    "    encode_numeric_zscore(df_new, column)\n",
    "\n",
    "# Print first 5 rows to check normalization\n",
    "print(df_new.head())"
   ]
  },
  {
   "cell_type": "code",
   "execution_count": 155,
   "metadata": {},
   "outputs": [
    {
     "name": "stdout",
     "output_type": "stream",
     "text": [
      "(3578, 5)\n",
      "(3578,)\n"
     ]
    }
   ],
   "source": [
    "# Set all columns other than Copy_Close as input('x')\n",
    "x = df_new.iloc[:,df_new.columns != 'Copy_Close']\n",
    "x = np.array(x, dtype = np.float32)\n",
    "\n",
    "# Set the Copy_Close column as output('y')\n",
    "y = np.array(df_new['Copy_Close'].values, dtype = np.float32)\n",
    "\n",
    "print(x.shape)\n",
    "print(y.shape)"
   ]
  },
  {
   "cell_type": "markdown",
   "metadata": {},
   "source": [
    "Data transformation"
   ]
  },
  {
   "cell_type": "code",
   "execution_count": 156,
   "metadata": {},
   "outputs": [
    {
     "name": "stdout",
     "output_type": "stream",
     "text": [
      "Shape of x_lstseq: (3571, 7, 5)\n",
      "Shape of y_lstseq: (3571,)\n",
      "Shape of x_newseq: (3571, 7, 5)\n"
     ]
    }
   ],
   "source": [
    "SEQUENCE_SIZE = 7\n",
    "\n",
    "x_lstseq, y_lstseq = to_sequences(SEQUENCE_SIZE, x, y)\n",
    "\n",
    "print(\"Shape of x_lstseq: {}\".format(x_lstseq.shape))\n",
    "print(\"Shape of y_lstseq: {}\".format(y_lstseq.shape))\n",
    "\n",
    "# Reshaping the array\n",
    "x_newseq = x_lstseq.reshape(x_lstseq.shape[0], 7, 5)\n",
    "\n",
    "print(\"Shape of x_newseq: {}\".format(x_newseq.shape))"
   ]
  },
  {
   "cell_type": "markdown",
   "metadata": {},
   "source": [
    "Split train and test 70/30"
   ]
  },
  {
   "cell_type": "code",
   "execution_count": 157,
   "metadata": {},
   "outputs": [
    {
     "name": "stdout",
     "output_type": "stream",
     "text": [
      "Shape of x_train :(2499, 7, 5)\n",
      "Shape of x_test  :(1072, 7, 5)\n",
      "Shape of y_train :(2499,)\n",
      "Shape of y_test  :(1072,)\n"
     ]
    }
   ],
   "source": [
    "x_train, x_test, y_train, y_test = train_test_split(x_newseq, y_lstseq, test_size = 0.3, random_state = 0)\n",
    "\n",
    "print(\"Shape of x_train :{}\".format(x_train.shape))\n",
    "print(\"Shape of x_test  :{}\".format(x_test.shape))\n",
    "\n",
    "print(\"Shape of y_train :{}\".format(y_train.shape))\n",
    "print(\"Shape of y_test  :{}\".format(y_test.shape))"
   ]
  },
  {
   "cell_type": "markdown",
   "metadata": {},
   "source": [
    "# Using RNN\n",
    "Using EarlyStopping, ModelCheckpoint and TensorBoard to plot the training and test loss.\n",
    "\n",
    "Tuning the following hyperparameters\n",
    "\n",
    "Activation: relu, sigmoid, tanh\n",
    "Number of layers and neuron count in each layer\n",
    "Optimizer: adam and sgd\n",
    "Number of LSTM layers and neuron count in each layer"
   ]
  },
  {
   "cell_type": "code",
   "execution_count": 159,
   "metadata": {},
   "outputs": [
    {
     "name": "stdout",
     "output_type": "stream",
     "text": [
      "Epoch 1/200\n"
     ]
    },
    {
     "name": "stderr",
     "output_type": "stream",
     "text": [
      "c:\\Users\\Illya\\anaconda3\\Lib\\site-packages\\keras\\src\\layers\\rnn\\rnn.py:204: UserWarning: Do not pass an `input_shape`/`input_dim` argument to a layer. When using Sequential models, prefer using an `Input(shape)` object as the first layer in the model instead.\n",
      "  super().__init__(**kwargs)\n"
     ]
    },
    {
     "name": "stdout",
     "output_type": "stream",
     "text": [
      "79/79 - 3s - 36ms/step - loss: 224512.1094 - val_loss: 87188.4297\n",
      "Epoch 2/200\n",
      "79/79 - 0s - 3ms/step - loss: 26120.1738 - val_loss: 8077.8584\n",
      "Epoch 3/200\n",
      "79/79 - 0s - 3ms/step - loss: 4960.7056 - val_loss: 1871.4329\n",
      "Epoch 4/200\n",
      "79/79 - 0s - 3ms/step - loss: 2834.3994 - val_loss: 1124.0656\n",
      "Epoch 5/200\n",
      "79/79 - 0s - 3ms/step - loss: 2457.0081 - val_loss: 1035.6779\n",
      "Epoch 6/200\n",
      "79/79 - 0s - 3ms/step - loss: 2868.5322 - val_loss: 848.1897\n",
      "Epoch 7/200\n",
      "79/79 - 0s - 3ms/step - loss: 2607.3774 - val_loss: 804.8806\n",
      "Epoch 8/200\n",
      "79/79 - 0s - 3ms/step - loss: 2532.5513 - val_loss: 890.6709\n",
      "Epoch 9/200\n",
      "79/79 - 0s - 3ms/step - loss: 2268.6243 - val_loss: 531.2125\n",
      "Epoch 10/200\n",
      "79/79 - 0s - 3ms/step - loss: 2587.1643 - val_loss: 25833.5215\n",
      "Epoch 11/200\n",
      "79/79 - 0s - 3ms/step - loss: 4626.7993 - val_loss: 620.0579\n",
      "Epoch 12/200\n",
      "79/79 - 0s - 3ms/step - loss: 2362.6968 - val_loss: 417.2631\n",
      "Epoch 13/200\n",
      "79/79 - 0s - 3ms/step - loss: 2059.7295 - val_loss: 515.4111\n",
      "Epoch 14/200\n",
      "79/79 - 0s - 3ms/step - loss: 2135.1184 - val_loss: 630.8783\n",
      "Epoch 15/200\n",
      "79/79 - 0s - 3ms/step - loss: 2319.9329 - val_loss: 587.8757\n",
      "Epoch 16/200\n",
      "79/79 - 0s - 3ms/step - loss: 2023.6628 - val_loss: 409.0522\n",
      "Epoch 17/200\n",
      "79/79 - 0s - 3ms/step - loss: 2076.5037 - val_loss: 409.2780\n",
      "Epoch 18/200\n",
      "79/79 - 0s - 4ms/step - loss: 2285.1199 - val_loss: 466.7683\n",
      "Epoch 19/200\n",
      "79/79 - 0s - 3ms/step - loss: 1871.3301 - val_loss: 285.3303\n",
      "Epoch 20/200\n",
      "79/79 - 0s - 3ms/step - loss: 1586.3909 - val_loss: 430.7360\n",
      "Epoch 21/200\n",
      "79/79 - 0s - 3ms/step - loss: 1553.4199 - val_loss: 482.4888\n",
      "Epoch 22/200\n",
      "79/79 - 0s - 3ms/step - loss: 1228.2404 - val_loss: 705.6738\n",
      "Epoch 23/200\n",
      "79/79 - 0s - 3ms/step - loss: 1195.8336 - val_loss: 502.7592\n",
      "Epoch 24/200\n",
      "79/79 - 0s - 3ms/step - loss: 1258.6569 - val_loss: 928.1342\n",
      "Epoch 24: early stopping\n",
      "\u001b[1m34/34\u001b[0m \u001b[32m━━━━━━━━━━━━━━━━━━━━\u001b[0m\u001b[37m\u001b[0m \u001b[1m0s\u001b[0m 6ms/step\n",
      "Score_test (RMSE): 16.8917236328125\n"
     ]
    },
    {
     "data": {
      "image/png": "[encoded data removed]",
      "text/plain": [
       "<Figure size 640x480 with 1 Axes>"
      ]
     },
     "metadata": {},
     "output_type": "display_data"
    }
   ],
   "source": [
    "\n",
    "model = Sequential()\n",
    "model.add(LSTM(128, dropout=0.1, recurrent_dropout=0.1, input_shape=(SEQUENCE_SIZE, 5))) \n",
    "model.add(Dense(64, activation = 'relu'))\n",
    "model.add(Dense(32, activation = 'relu'))\n",
    "model.add(Dense(16, activation = 'relu'))\n",
    "model.add(Dense(1))\n",
    "model.compile(loss = 'mean_squared_error', optimizer = 'adam')\n",
    "\n",
    "monitor = EarlyStopping(monitor = 'val_loss', min_delta = 1e-3, patience = 5, verbose = 1, mode = 'auto')\n",
    "checkpointer = ModelCheckpoint(filepath = \"best_weights_LSTM.keras\", verbose = 0, save_best_only = True)\n",
    "\n",
    "model.fit(x_train, y_train, validation_data = (x_test, y_test), callbacks = [monitor, checkpointer], verbose = 2, epochs = 200)\n",
    "\n",
    "model.load_weights('best_weights_LSTM.keras')  \n",
    "\n",
    "pred_test = model.predict(x_test)\n",
    "score_test = np.sqrt(metrics.mean_squared_error(pred_test, y_test))\n",
    "print(\"Score_test (RMSE): {}\".format(score_test))\n",
    "\n",
    "# Chart_regression\n",
    "chart_regression(pred_test.flatten(), y_test, sort = True) "
   ]
  },
  {
   "cell_type": "markdown",
   "metadata": {},
   "source": [
    "# Additional Features"
   ]
  },
  {
   "cell_type": "markdown",
   "metadata": {},
   "source": [
    "Bidirectional LSTM"
   ]
  },
  {
   "cell_type": "code",
   "execution_count": 160,
   "metadata": {},
   "outputs": [],
   "source": [
    "from tensorflow.keras.layers import Bidirectional\n"
   ]
  },
  {
   "cell_type": "code",
   "execution_count": 161,
   "metadata": {},
   "outputs": [
    {
     "name": "stdout",
     "output_type": "stream",
     "text": [
      "Epoch 1/1000\n"
     ]
    },
    {
     "name": "stderr",
     "output_type": "stream",
     "text": [
      "c:\\Users\\Illya\\anaconda3\\Lib\\site-packages\\keras\\src\\layers\\rnn\\bidirectional.py:107: UserWarning: Do not pass an `input_shape`/`input_dim` argument to a layer. When using Sequential models, prefer using an `Input(shape)` object as the first layer in the model instead.\n",
      "  super().__init__(**kwargs)\n"
     ]
    },
    {
     "name": "stdout",
     "output_type": "stream",
     "text": [
      "\n",
      "Epoch 1: val_loss improved from inf to 232054.51562, saving model to lstm.keras\n",
      "79/79 - 5s - 60ms/step - loss: 251331.8906 - val_loss: 232054.5156\n",
      "Epoch 2/1000\n",
      "\n",
      "Epoch 2: val_loss improved from 232054.51562 to 214208.18750, saving model to lstm.keras\n",
      "79/79 - 1s - 7ms/step - loss: 226228.9062 - val_loss: 214208.1875\n",
      "Epoch 3/1000\n",
      "\n",
      "Epoch 3: val_loss improved from 214208.18750 to 198838.75000, saving model to lstm.keras\n",
      "79/79 - 1s - 8ms/step - loss: 209431.8281 - val_loss: 198838.7500\n",
      "Epoch 4/1000\n",
      "\n",
      "Epoch 4: val_loss improved from 198838.75000 to 185181.92188, saving model to lstm.keras\n",
      "79/79 - 1s - 7ms/step - loss: 194537.2656 - val_loss: 185181.9219\n",
      "Epoch 5/1000\n",
      "\n",
      "Epoch 5: val_loss improved from 185181.92188 to 172890.32812, saving model to lstm.keras\n",
      "79/79 - 1s - 7ms/step - loss: 181341.1250 - val_loss: 172890.3281\n",
      "Epoch 6/1000\n",
      "\n",
      "Epoch 6: val_loss improved from 172890.32812 to 161965.21875, saving model to lstm.keras\n",
      "79/79 - 1s - 7ms/step - loss: 169548.7812 - val_loss: 161965.2188\n",
      "Epoch 7/1000\n",
      "\n",
      "Epoch 7: val_loss improved from 161965.21875 to 152138.50000, saving model to lstm.keras\n",
      "79/79 - 1s - 7ms/step - loss: 158875.2969 - val_loss: 152138.5000\n",
      "Epoch 8/1000\n",
      "\n",
      "Epoch 8: val_loss improved from 152138.50000 to 143198.26562, saving model to lstm.keras\n",
      "79/79 - 1s - 7ms/step - loss: 149241.0000 - val_loss: 143198.2656\n",
      "Epoch 9/1000\n",
      "\n",
      "Epoch 9: val_loss improved from 143198.26562 to 135272.59375, saving model to lstm.keras\n",
      "79/79 - 1s - 7ms/step - loss: 140592.3906 - val_loss: 135272.5938\n",
      "Epoch 10/1000\n",
      "\n",
      "Epoch 10: val_loss improved from 135272.59375 to 128136.44531, saving model to lstm.keras\n",
      "79/79 - 1s - 7ms/step - loss: 132793.2969 - val_loss: 128136.4453\n",
      "Epoch 11/1000\n",
      "\n",
      "Epoch 11: val_loss improved from 128136.44531 to 121684.08594, saving model to lstm.keras\n",
      "79/79 - 1s - 7ms/step - loss: 125798.3906 - val_loss: 121684.0859\n",
      "Epoch 12/1000\n",
      "\n",
      "Epoch 12: val_loss improved from 121684.08594 to 114319.81250, saving model to lstm.keras\n",
      "79/79 - 1s - 7ms/step - loss: 119135.8203 - val_loss: 114319.8125\n",
      "Epoch 13/1000\n",
      "\n",
      "Epoch 13: val_loss improved from 114319.81250 to 107802.83594, saving model to lstm.keras\n",
      "79/79 - 1s - 7ms/step - loss: 111252.8828 - val_loss: 107802.8359\n",
      "Epoch 14/1000\n",
      "\n",
      "Epoch 14: val_loss improved from 107802.83594 to 101965.48438, saving model to lstm.keras\n",
      "79/79 - 1s - 7ms/step - loss: 104994.9453 - val_loss: 101965.4844\n",
      "Epoch 15/1000\n",
      "\n",
      "Epoch 15: val_loss improved from 101965.48438 to 96388.81250, saving model to lstm.keras\n",
      "79/79 - 1s - 8ms/step - loss: 99062.6875 - val_loss: 96388.8125\n",
      "Epoch 16/1000\n",
      "\n",
      "Epoch 16: val_loss improved from 96388.81250 to 91204.10938, saving model to lstm.keras\n",
      "79/79 - 1s - 8ms/step - loss: 93579.5625 - val_loss: 91204.1094\n",
      "Epoch 17/1000\n",
      "\n",
      "Epoch 17: val_loss improved from 91204.10938 to 86345.83594, saving model to lstm.keras\n",
      "79/79 - 1s - 7ms/step - loss: 88416.2031 - val_loss: 86345.8359\n",
      "Epoch 18/1000\n",
      "\n",
      "Epoch 18: val_loss improved from 86345.83594 to 81725.89844, saving model to lstm.keras\n",
      "79/79 - 1s - 7ms/step - loss: 83598.9141 - val_loss: 81725.8984\n",
      "Epoch 19/1000\n",
      "\n",
      "Epoch 19: val_loss improved from 81725.89844 to 77346.35938, saving model to lstm.keras\n",
      "79/79 - 1s - 7ms/step - loss: 79003.8203 - val_loss: 77346.3594\n",
      "Epoch 20/1000\n",
      "\n",
      "Epoch 20: val_loss improved from 77346.35938 to 73179.50781, saving model to lstm.keras\n",
      "79/79 - 1s - 8ms/step - loss: 74617.2734 - val_loss: 73179.5078\n",
      "Epoch 21/1000\n",
      "\n",
      "Epoch 21: val_loss improved from 73179.50781 to 69324.00000, saving model to lstm.keras\n",
      "79/79 - 1s - 8ms/step - loss: 70498.6406 - val_loss: 69324.0000\n",
      "Epoch 22/1000\n",
      "\n",
      "Epoch 22: val_loss improved from 69324.00000 to 65525.12109, saving model to lstm.keras\n",
      "79/79 - 1s - 8ms/step - loss: 66560.1797 - val_loss: 65525.1211\n",
      "Epoch 23/1000\n",
      "\n",
      "Epoch 23: val_loss improved from 65525.12109 to 62057.74219, saving model to lstm.keras\n",
      "79/79 - 1s - 8ms/step - loss: 62859.2539 - val_loss: 62057.7422\n",
      "Epoch 24/1000\n",
      "\n",
      "Epoch 24: val_loss improved from 62057.74219 to 58717.78516, saving model to lstm.keras\n",
      "79/79 - 1s - 8ms/step - loss: 59364.9180 - val_loss: 58717.7852\n",
      "Epoch 25/1000\n",
      "\n",
      "Epoch 25: val_loss improved from 58717.78516 to 55506.36328, saving model to lstm.keras\n",
      "79/79 - 1s - 8ms/step - loss: 56013.0547 - val_loss: 55506.3633\n",
      "Epoch 26/1000\n",
      "\n",
      "Epoch 26: val_loss improved from 55506.36328 to 52565.88672, saving model to lstm.keras\n",
      "79/79 - 1s - 7ms/step - loss: 52891.3633 - val_loss: 52565.8867\n",
      "Epoch 27/1000\n",
      "\n",
      "Epoch 27: val_loss improved from 52565.88672 to 49737.63672, saving model to lstm.keras\n",
      "79/79 - 1s - 8ms/step - loss: 49919.5547 - val_loss: 49737.6367\n",
      "Epoch 28/1000\n",
      "\n",
      "Epoch 28: val_loss improved from 49737.63672 to 47014.12891, saving model to lstm.keras\n",
      "79/79 - 1s - 7ms/step - loss: 47077.4180 - val_loss: 47014.1289\n",
      "Epoch 29/1000\n",
      "\n",
      "Epoch 29: val_loss improved from 47014.12891 to 44518.55859, saving model to lstm.keras\n",
      "79/79 - 1s - 8ms/step - loss: 44464.5977 - val_loss: 44518.5586\n",
      "Epoch 30/1000\n",
      "\n",
      "Epoch 30: val_loss improved from 44518.55859 to 42181.14844, saving model to lstm.keras\n",
      "79/79 - 1s - 8ms/step - loss: 42019.5312 - val_loss: 42181.1484\n",
      "Epoch 31/1000\n",
      "\n",
      "Epoch 31: val_loss improved from 42181.14844 to 39943.98438, saving model to lstm.keras\n",
      "79/79 - 1s - 8ms/step - loss: 39703.7773 - val_loss: 39943.9844\n",
      "Epoch 32/1000\n",
      "\n",
      "Epoch 32: val_loss improved from 39943.98438 to 37865.20312, saving model to lstm.keras\n",
      "79/79 - 1s - 7ms/step - loss: 37564.2461 - val_loss: 37865.2031\n",
      "Epoch 33/1000\n",
      "\n",
      "Epoch 33: val_loss improved from 37865.20312 to 35995.75000, saving model to lstm.keras\n",
      "79/79 - 1s - 7ms/step - loss: 35531.7812 - val_loss: 35995.7500\n",
      "Epoch 34/1000\n",
      "\n",
      "Epoch 34: val_loss improved from 35995.75000 to 34079.11328, saving model to lstm.keras\n",
      "79/79 - 1s - 7ms/step - loss: 33657.6055 - val_loss: 34079.1133\n",
      "Epoch 35/1000\n",
      "\n",
      "Epoch 35: val_loss improved from 34079.11328 to 32333.98047, saving model to lstm.keras\n",
      "79/79 - 1s - 7ms/step - loss: 31879.7539 - val_loss: 32333.9805\n",
      "Epoch 36/1000\n",
      "\n",
      "Epoch 36: val_loss improved from 32333.98047 to 30720.77539, saving model to lstm.keras\n",
      "79/79 - 1s - 7ms/step - loss: 30194.0898 - val_loss: 30720.7754\n",
      "Epoch 37/1000\n",
      "\n",
      "Epoch 37: val_loss improved from 30720.77539 to 29086.27344, saving model to lstm.keras\n",
      "79/79 - 1s - 7ms/step - loss: 28599.2246 - val_loss: 29086.2734\n",
      "Epoch 38/1000\n",
      "\n",
      "Epoch 38: val_loss improved from 29086.27344 to 27568.09570, saving model to lstm.keras\n",
      "79/79 - 1s - 7ms/step - loss: 27027.3262 - val_loss: 27568.0957\n",
      "Epoch 39/1000\n",
      "\n",
      "Epoch 39: val_loss improved from 27568.09570 to 26072.68945, saving model to lstm.keras\n",
      "79/79 - 1s - 8ms/step - loss: 25572.1445 - val_loss: 26072.6895\n",
      "Epoch 40/1000\n",
      "\n",
      "Epoch 40: val_loss improved from 26072.68945 to 24683.14844, saving model to lstm.keras\n",
      "79/79 - 1s - 7ms/step - loss: 24141.6660 - val_loss: 24683.1484\n",
      "Epoch 41/1000\n",
      "\n",
      "Epoch 41: val_loss improved from 24683.14844 to 23407.35547, saving model to lstm.keras\n",
      "79/79 - 1s - 7ms/step - loss: 22830.4258 - val_loss: 23407.3555\n",
      "Epoch 42/1000\n",
      "\n",
      "Epoch 42: val_loss improved from 23407.35547 to 22115.74805, saving model to lstm.keras\n",
      "79/79 - 1s - 7ms/step - loss: 21586.0137 - val_loss: 22115.7480\n",
      "Epoch 43/1000\n",
      "\n",
      "Epoch 43: val_loss improved from 22115.74805 to 20934.39453, saving model to lstm.keras\n",
      "79/79 - 1s - 7ms/step - loss: 20381.8262 - val_loss: 20934.3945\n",
      "Epoch 44/1000\n",
      "\n",
      "Epoch 44: val_loss improved from 20934.39453 to 19782.59375, saving model to lstm.keras\n",
      "79/79 - 1s - 7ms/step - loss: 19243.8652 - val_loss: 19782.5938\n",
      "Epoch 45/1000\n",
      "\n",
      "Epoch 45: val_loss improved from 19782.59375 to 18668.02930, saving model to lstm.keras\n",
      "79/79 - 1s - 8ms/step - loss: 18117.7168 - val_loss: 18668.0293\n",
      "Epoch 46/1000\n",
      "\n",
      "Epoch 46: val_loss improved from 18668.02930 to 17669.06250, saving model to lstm.keras\n",
      "79/79 - 1s - 7ms/step - loss: 17093.8750 - val_loss: 17669.0625\n",
      "Epoch 47/1000\n",
      "\n",
      "Epoch 47: val_loss improved from 17669.06250 to 16705.72852, saving model to lstm.keras\n",
      "79/79 - 1s - 7ms/step - loss: 16129.4609 - val_loss: 16705.7285\n",
      "Epoch 48/1000\n",
      "\n",
      "Epoch 48: val_loss improved from 16705.72852 to 15799.97559, saving model to lstm.keras\n",
      "79/79 - 1s - 7ms/step - loss: 15228.1621 - val_loss: 15799.9756\n",
      "Epoch 49/1000\n",
      "\n",
      "Epoch 49: val_loss improved from 15799.97559 to 14927.59766, saving model to lstm.keras\n",
      "79/79 - 1s - 7ms/step - loss: 14361.3057 - val_loss: 14927.5977\n",
      "Epoch 50/1000\n",
      "\n",
      "Epoch 50: val_loss improved from 14927.59766 to 14130.57324, saving model to lstm.keras\n",
      "79/79 - 1s - 7ms/step - loss: 13560.1055 - val_loss: 14130.5732\n",
      "Epoch 51/1000\n",
      "\n",
      "Epoch 51: val_loss improved from 14130.57324 to 13400.38379, saving model to lstm.keras\n",
      "79/79 - 1s - 7ms/step - loss: 12809.3545 - val_loss: 13400.3838\n",
      "Epoch 52/1000\n",
      "\n",
      "Epoch 52: val_loss improved from 13400.38379 to 12642.33789, saving model to lstm.keras\n",
      "79/79 - 1s - 7ms/step - loss: 12096.0889 - val_loss: 12642.3379\n",
      "Epoch 53/1000\n",
      "\n",
      "Epoch 53: val_loss improved from 12642.33789 to 11963.42773, saving model to lstm.keras\n",
      "79/79 - 1s - 7ms/step - loss: 11442.3350 - val_loss: 11963.4277\n",
      "Epoch 54/1000\n",
      "\n",
      "Epoch 54: val_loss improved from 11963.42773 to 11325.64355, saving model to lstm.keras\n",
      "79/79 - 1s - 7ms/step - loss: 10807.2793 - val_loss: 11325.6436\n",
      "Epoch 55/1000\n",
      "\n",
      "Epoch 55: val_loss improved from 11325.64355 to 10728.23242, saving model to lstm.keras\n",
      "79/79 - 1s - 7ms/step - loss: 10187.1318 - val_loss: 10728.2324\n",
      "Epoch 56/1000\n",
      "\n",
      "Epoch 56: val_loss improved from 10728.23242 to 10137.16016, saving model to lstm.keras\n",
      "79/79 - 1s - 7ms/step - loss: 9620.5137 - val_loss: 10137.1602\n",
      "Epoch 57/1000\n",
      "\n",
      "Epoch 57: val_loss improved from 10137.16016 to 9569.90234, saving model to lstm.keras\n",
      "79/79 - 1s - 7ms/step - loss: 9077.4893 - val_loss: 9569.9023\n",
      "Epoch 58/1000\n",
      "\n",
      "Epoch 58: val_loss improved from 9569.90234 to 9041.80859, saving model to lstm.keras\n",
      "79/79 - 1s - 7ms/step - loss: 8563.7197 - val_loss: 9041.8086\n",
      "Epoch 59/1000\n",
      "\n",
      "Epoch 59: val_loss improved from 9041.80859 to 8577.61328, saving model to lstm.keras\n",
      "79/79 - 1s - 7ms/step - loss: 8065.2695 - val_loss: 8577.6133\n",
      "Epoch 60/1000\n",
      "\n",
      "Epoch 60: val_loss improved from 8577.61328 to 8038.03809, saving model to lstm.keras\n",
      "79/79 - 1s - 7ms/step - loss: 7590.3306 - val_loss: 8038.0381\n",
      "Epoch 61/1000\n",
      "\n",
      "Epoch 61: val_loss improved from 8038.03809 to 7584.91797, saving model to lstm.keras\n",
      "79/79 - 1s - 7ms/step - loss: 7133.6494 - val_loss: 7584.9180\n",
      "Epoch 62/1000\n",
      "\n",
      "Epoch 62: val_loss improved from 7584.91797 to 7135.00586, saving model to lstm.keras\n",
      "79/79 - 1s - 7ms/step - loss: 6715.1162 - val_loss: 7135.0059\n",
      "Epoch 63/1000\n",
      "\n",
      "Epoch 63: val_loss improved from 7135.00586 to 6723.29883, saving model to lstm.keras\n",
      "79/79 - 1s - 7ms/step - loss: 6303.4033 - val_loss: 6723.2988\n",
      "Epoch 64/1000\n",
      "\n",
      "Epoch 64: val_loss improved from 6723.29883 to 6291.86963, saving model to lstm.keras\n",
      "79/79 - 1s - 7ms/step - loss: 5892.6035 - val_loss: 6291.8696\n",
      "Epoch 65/1000\n",
      "\n",
      "Epoch 65: val_loss improved from 6291.86963 to 5892.54785, saving model to lstm.keras\n",
      "79/79 - 1s - 7ms/step - loss: 5494.9224 - val_loss: 5892.5479\n",
      "Epoch 66/1000\n",
      "\n",
      "Epoch 66: val_loss improved from 5892.54785 to 5549.58838, saving model to lstm.keras\n",
      "79/79 - 1s - 7ms/step - loss: 5141.0688 - val_loss: 5549.5884\n",
      "Epoch 67/1000\n",
      "\n",
      "Epoch 67: val_loss improved from 5549.58838 to 5223.62939, saving model to lstm.keras\n",
      "79/79 - 1s - 7ms/step - loss: 4825.7231 - val_loss: 5223.6294\n",
      "Epoch 68/1000\n",
      "\n",
      "Epoch 68: val_loss improved from 5223.62939 to 4864.92920, saving model to lstm.keras\n",
      "79/79 - 1s - 7ms/step - loss: 4515.4097 - val_loss: 4864.9292\n",
      "Epoch 69/1000\n",
      "\n",
      "Epoch 69: val_loss improved from 4864.92920 to 4583.03955, saving model to lstm.keras\n",
      "79/79 - 1s - 7ms/step - loss: 4220.4067 - val_loss: 4583.0396\n",
      "Epoch 70/1000\n",
      "\n",
      "Epoch 70: val_loss improved from 4583.03955 to 4289.06738, saving model to lstm.keras\n",
      "79/79 - 1s - 7ms/step - loss: 3946.9192 - val_loss: 4289.0674\n",
      "Epoch 71/1000\n",
      "\n",
      "Epoch 71: val_loss improved from 4289.06738 to 4028.60669, saving model to lstm.keras\n",
      "79/79 - 1s - 7ms/step - loss: 3693.8716 - val_loss: 4028.6067\n",
      "Epoch 72/1000\n",
      "\n",
      "Epoch 72: val_loss improved from 4028.60669 to 3753.29297, saving model to lstm.keras\n",
      "79/79 - 1s - 7ms/step - loss: 3441.1045 - val_loss: 3753.2930\n",
      "Epoch 73/1000\n",
      "\n",
      "Epoch 73: val_loss improved from 3753.29297 to 3507.82324, saving model to lstm.keras\n",
      "79/79 - 1s - 7ms/step - loss: 3195.7556 - val_loss: 3507.8232\n",
      "Epoch 74/1000\n",
      "\n",
      "Epoch 74: val_loss improved from 3507.82324 to 3279.20483, saving model to lstm.keras\n",
      "79/79 - 1s - 7ms/step - loss: 2978.2456 - val_loss: 3279.2048\n",
      "Epoch 75/1000\n",
      "\n",
      "Epoch 75: val_loss improved from 3279.20483 to 3064.38403, saving model to lstm.keras\n",
      "79/79 - 1s - 7ms/step - loss: 2767.6169 - val_loss: 3064.3840\n",
      "Epoch 76/1000\n",
      "\n",
      "Epoch 76: val_loss improved from 3064.38403 to 2870.23438, saving model to lstm.keras\n",
      "79/79 - 1s - 7ms/step - loss: 2591.9973 - val_loss: 2870.2344\n",
      "Epoch 77/1000\n",
      "\n",
      "Epoch 77: val_loss improved from 2870.23438 to 2706.28076, saving model to lstm.keras\n",
      "79/79 - 1s - 7ms/step - loss: 2399.9995 - val_loss: 2706.2808\n",
      "Epoch 78/1000\n",
      "\n",
      "Epoch 78: val_loss improved from 2706.28076 to 2523.87158, saving model to lstm.keras\n",
      "79/79 - 1s - 7ms/step - loss: 2243.4138 - val_loss: 2523.8716\n",
      "Epoch 79/1000\n",
      "\n",
      "Epoch 79: val_loss improved from 2523.87158 to 2367.80737, saving model to lstm.keras\n",
      "79/79 - 1s - 7ms/step - loss: 2091.2061 - val_loss: 2367.8074\n",
      "Epoch 80/1000\n",
      "\n",
      "Epoch 80: val_loss improved from 2367.80737 to 2248.59302, saving model to lstm.keras\n",
      "79/79 - 1s - 7ms/step - loss: 1973.2219 - val_loss: 2248.5930\n",
      "Epoch 81/1000\n",
      "\n",
      "Epoch 81: val_loss improved from 2248.59302 to 2044.62109, saving model to lstm.keras\n",
      "79/79 - 1s - 8ms/step - loss: 1817.5629 - val_loss: 2044.6211\n",
      "Epoch 82/1000\n",
      "\n",
      "Epoch 82: val_loss improved from 2044.62109 to 1973.33459, saving model to lstm.keras\n",
      "79/79 - 1s - 7ms/step - loss: 1686.4016 - val_loss: 1973.3346\n",
      "Epoch 83/1000\n",
      "\n",
      "Epoch 83: val_loss improved from 1973.33459 to 1807.56934, saving model to lstm.keras\n",
      "79/79 - 1s - 7ms/step - loss: 1572.8423 - val_loss: 1807.5693\n",
      "Epoch 84/1000\n",
      "\n",
      "Epoch 84: val_loss improved from 1807.56934 to 1679.01331, saving model to lstm.keras\n",
      "79/79 - 1s - 7ms/step - loss: 1462.7753 - val_loss: 1679.0133\n",
      "Epoch 85/1000\n",
      "\n",
      "Epoch 85: val_loss improved from 1679.01331 to 1555.00708, saving model to lstm.keras\n",
      "79/79 - 1s - 8ms/step - loss: 1363.8340 - val_loss: 1555.0071\n",
      "Epoch 86/1000\n",
      "\n",
      "Epoch 86: val_loss improved from 1555.00708 to 1478.93591, saving model to lstm.keras\n",
      "79/79 - 1s - 8ms/step - loss: 1258.2325 - val_loss: 1478.9359\n",
      "Epoch 87/1000\n",
      "\n",
      "Epoch 87: val_loss improved from 1478.93591 to 1392.96802, saving model to lstm.keras\n",
      "79/79 - 1s - 7ms/step - loss: 1176.7388 - val_loss: 1392.9680\n",
      "Epoch 88/1000\n",
      "\n",
      "Epoch 88: val_loss improved from 1392.96802 to 1256.26086, saving model to lstm.keras\n",
      "79/79 - 1s - 7ms/step - loss: 1097.0887 - val_loss: 1256.2609\n",
      "Epoch 89/1000\n",
      "\n",
      "Epoch 89: val_loss improved from 1256.26086 to 1181.26074, saving model to lstm.keras\n",
      "79/79 - 1s - 7ms/step - loss: 1015.4094 - val_loss: 1181.2607\n",
      "Epoch 90/1000\n",
      "\n",
      "Epoch 90: val_loss improved from 1181.26074 to 1106.00854, saving model to lstm.keras\n",
      "79/79 - 1s - 7ms/step - loss: 957.0134 - val_loss: 1106.0085\n",
      "Epoch 91/1000\n",
      "\n",
      "Epoch 91: val_loss improved from 1106.00854 to 1019.05402, saving model to lstm.keras\n",
      "79/79 - 1s - 7ms/step - loss: 877.7942 - val_loss: 1019.0540\n",
      "Epoch 92/1000\n",
      "\n",
      "Epoch 92: val_loss improved from 1019.05402 to 953.08691, saving model to lstm.keras\n",
      "79/79 - 1s - 8ms/step - loss: 817.0975 - val_loss: 953.0869\n",
      "Epoch 93/1000\n",
      "\n",
      "Epoch 93: val_loss improved from 953.08691 to 895.15851, saving model to lstm.keras\n",
      "79/79 - 1s - 7ms/step - loss: 761.1324 - val_loss: 895.1585\n",
      "Epoch 94/1000\n",
      "\n",
      "Epoch 94: val_loss improved from 895.15851 to 837.91986, saving model to lstm.keras\n",
      "79/79 - 1s - 7ms/step - loss: 723.5341 - val_loss: 837.9199\n",
      "Epoch 95/1000\n",
      "\n",
      "Epoch 95: val_loss improved from 837.91986 to 805.81256, saving model to lstm.keras\n",
      "79/79 - 1s - 7ms/step - loss: 661.0109 - val_loss: 805.8126\n",
      "Epoch 96/1000\n",
      "\n",
      "Epoch 96: val_loss improved from 805.81256 to 735.92657, saving model to lstm.keras\n",
      "79/79 - 1s - 7ms/step - loss: 624.4453 - val_loss: 735.9266\n",
      "Epoch 97/1000\n",
      "\n",
      "Epoch 97: val_loss improved from 735.92657 to 700.91602, saving model to lstm.keras\n",
      "79/79 - 1s - 7ms/step - loss: 583.8615 - val_loss: 700.9160\n",
      "Epoch 98/1000\n",
      "\n",
      "Epoch 98: val_loss improved from 700.91602 to 654.78333, saving model to lstm.keras\n",
      "79/79 - 1s - 8ms/step - loss: 549.2809 - val_loss: 654.7833\n",
      "Epoch 99/1000\n",
      "\n",
      "Epoch 99: val_loss improved from 654.78333 to 598.67902, saving model to lstm.keras\n",
      "79/79 - 1s - 8ms/step - loss: 506.6496 - val_loss: 598.6790\n",
      "Epoch 100/1000\n",
      "\n",
      "Epoch 100: val_loss improved from 598.67902 to 580.05060, saving model to lstm.keras\n",
      "79/79 - 1s - 8ms/step - loss: 478.8228 - val_loss: 580.0506\n",
      "Epoch 101/1000\n",
      "\n",
      "Epoch 101: val_loss improved from 580.05060 to 516.93933, saving model to lstm.keras\n",
      "79/79 - 1s - 7ms/step - loss: 468.1126 - val_loss: 516.9393\n",
      "Epoch 102/1000\n",
      "\n",
      "Epoch 102: val_loss improved from 516.93933 to 515.83600, saving model to lstm.keras\n",
      "79/79 - 1s - 7ms/step - loss: 423.7564 - val_loss: 515.8360\n",
      "Epoch 103/1000\n",
      "\n",
      "Epoch 103: val_loss improved from 515.83600 to 462.15668, saving model to lstm.keras\n",
      "79/79 - 1s - 7ms/step - loss: 397.0990 - val_loss: 462.1567\n",
      "Epoch 104/1000\n",
      "\n",
      "Epoch 104: val_loss improved from 462.15668 to 438.72885, saving model to lstm.keras\n",
      "79/79 - 1s - 7ms/step - loss: 382.7131 - val_loss: 438.7289\n",
      "Epoch 105/1000\n",
      "\n",
      "Epoch 105: val_loss improved from 438.72885 to 412.17807, saving model to lstm.keras\n",
      "79/79 - 1s - 7ms/step - loss: 348.0248 - val_loss: 412.1781\n",
      "Epoch 106/1000\n",
      "\n",
      "Epoch 106: val_loss improved from 412.17807 to 380.60440, saving model to lstm.keras\n",
      "79/79 - 1s - 7ms/step - loss: 333.0552 - val_loss: 380.6044\n",
      "Epoch 107/1000\n",
      "\n",
      "Epoch 107: val_loss did not improve from 380.60440\n",
      "79/79 - 1s - 7ms/step - loss: 313.5586 - val_loss: 467.6562\n",
      "Epoch 108/1000\n",
      "\n",
      "Epoch 108: val_loss improved from 380.60440 to 339.18985, saving model to lstm.keras\n",
      "79/79 - 1s - 7ms/step - loss: 326.5107 - val_loss: 339.1898\n",
      "Epoch 109/1000\n",
      "\n",
      "Epoch 109: val_loss improved from 339.18985 to 309.40247, saving model to lstm.keras\n",
      "79/79 - 1s - 7ms/step - loss: 282.7367 - val_loss: 309.4025\n",
      "Epoch 110/1000\n",
      "\n",
      "Epoch 110: val_loss improved from 309.40247 to 298.42603, saving model to lstm.keras\n",
      "79/79 - 1s - 7ms/step - loss: 262.3602 - val_loss: 298.4260\n",
      "Epoch 111/1000\n",
      "\n",
      "Epoch 111: val_loss did not improve from 298.42603\n",
      "79/79 - 1s - 7ms/step - loss: 248.6027 - val_loss: 301.8370\n",
      "Epoch 112/1000\n",
      "\n",
      "Epoch 112: val_loss improved from 298.42603 to 258.94135, saving model to lstm.keras\n",
      "79/79 - 1s - 7ms/step - loss: 238.7809 - val_loss: 258.9413\n",
      "Epoch 113/1000\n",
      "\n",
      "Epoch 113: val_loss improved from 258.94135 to 249.70085, saving model to lstm.keras\n",
      "79/79 - 1s - 7ms/step - loss: 221.0518 - val_loss: 249.7009\n",
      "Epoch 114/1000\n",
      "\n",
      "Epoch 114: val_loss improved from 249.70085 to 245.38170, saving model to lstm.keras\n",
      "79/79 - 1s - 7ms/step - loss: 216.5673 - val_loss: 245.3817\n",
      "Epoch 115/1000\n",
      "\n",
      "Epoch 115: val_loss improved from 245.38170 to 240.87979, saving model to lstm.keras\n",
      "79/79 - 1s - 7ms/step - loss: 212.8745 - val_loss: 240.8798\n",
      "Epoch 116/1000\n",
      "\n",
      "Epoch 116: val_loss did not improve from 240.87979\n",
      "79/79 - 1s - 7ms/step - loss: 204.4139 - val_loss: 249.5713\n",
      "Epoch 117/1000\n",
      "\n",
      "Epoch 117: val_loss improved from 240.87979 to 219.43222, saving model to lstm.keras\n",
      "79/79 - 1s - 7ms/step - loss: 197.7740 - val_loss: 219.4322\n",
      "Epoch 118/1000\n",
      "\n",
      "Epoch 118: val_loss improved from 219.43222 to 196.61934, saving model to lstm.keras\n",
      "79/79 - 1s - 7ms/step - loss: 181.6403 - val_loss: 196.6193\n",
      "Epoch 119/1000\n",
      "\n",
      "Epoch 119: val_loss improved from 196.61934 to 185.98199, saving model to lstm.keras\n",
      "79/79 - 1s - 7ms/step - loss: 166.2749 - val_loss: 185.9820\n",
      "Epoch 120/1000\n",
      "\n",
      "Epoch 120: val_loss improved from 185.98199 to 173.34758, saving model to lstm.keras\n",
      "79/79 - 1s - 7ms/step - loss: 159.4736 - val_loss: 173.3476\n",
      "Epoch 121/1000\n",
      "\n",
      "Epoch 121: val_loss did not improve from 173.34758\n",
      "79/79 - 1s - 7ms/step - loss: 150.8661 - val_loss: 180.8949\n",
      "Epoch 122/1000\n",
      "\n",
      "Epoch 122: val_loss improved from 173.34758 to 158.08395, saving model to lstm.keras\n",
      "79/79 - 1s - 7ms/step - loss: 148.9325 - val_loss: 158.0840\n",
      "Epoch 123/1000\n",
      "\n",
      "Epoch 123: val_loss did not improve from 158.08395\n",
      "79/79 - 1s - 7ms/step - loss: 158.0945 - val_loss: 216.8497\n",
      "Epoch 124/1000\n",
      "\n",
      "Epoch 124: val_loss improved from 158.08395 to 142.57800, saving model to lstm.keras\n",
      "79/79 - 1s - 7ms/step - loss: 148.9223 - val_loss: 142.5780\n",
      "Epoch 125/1000\n",
      "\n",
      "Epoch 125: val_loss did not improve from 142.57800\n",
      "79/79 - 1s - 7ms/step - loss: 134.4459 - val_loss: 148.4759\n",
      "Epoch 126/1000\n",
      "\n",
      "Epoch 126: val_loss improved from 142.57800 to 139.41322, saving model to lstm.keras\n",
      "79/79 - 1s - 7ms/step - loss: 134.9185 - val_loss: 139.4132\n",
      "Epoch 127/1000\n",
      "\n",
      "Epoch 127: val_loss improved from 139.41322 to 139.10379, saving model to lstm.keras\n",
      "79/79 - 1s - 7ms/step - loss: 123.6255 - val_loss: 139.1038\n",
      "Epoch 128/1000\n",
      "\n",
      "Epoch 128: val_loss improved from 139.10379 to 126.87151, saving model to lstm.keras\n",
      "79/79 - 1s - 7ms/step - loss: 115.9551 - val_loss: 126.8715\n",
      "Epoch 129/1000\n",
      "\n",
      "Epoch 129: val_loss improved from 126.87151 to 124.39104, saving model to lstm.keras\n",
      "79/79 - 1s - 7ms/step - loss: 114.4910 - val_loss: 124.3910\n",
      "Epoch 130/1000\n",
      "\n",
      "Epoch 130: val_loss did not improve from 124.39104\n",
      "79/79 - 1s - 7ms/step - loss: 123.4911 - val_loss: 124.8613\n",
      "Epoch 131/1000\n",
      "\n",
      "Epoch 131: val_loss did not improve from 124.39104\n",
      "79/79 - 1s - 7ms/step - loss: 110.3668 - val_loss: 151.7858\n",
      "Epoch 132/1000\n",
      "\n",
      "Epoch 132: val_loss improved from 124.39104 to 122.17290, saving model to lstm.keras\n",
      "79/79 - 1s - 7ms/step - loss: 120.1694 - val_loss: 122.1729\n",
      "Epoch 133/1000\n",
      "\n",
      "Epoch 133: val_loss did not improve from 122.17290\n",
      "79/79 - 1s - 7ms/step - loss: 110.2070 - val_loss: 174.1587\n",
      "Epoch 134/1000\n",
      "\n",
      "Epoch 134: val_loss improved from 122.17290 to 110.38556, saving model to lstm.keras\n",
      "79/79 - 1s - 7ms/step - loss: 106.3166 - val_loss: 110.3856\n",
      "Epoch 135/1000\n",
      "\n",
      "Epoch 135: val_loss did not improve from 110.38556\n",
      "79/79 - 1s - 7ms/step - loss: 108.0343 - val_loss: 137.8977\n",
      "Epoch 136/1000\n",
      "\n",
      "Epoch 136: val_loss did not improve from 110.38556\n",
      "79/79 - 1s - 7ms/step - loss: 114.0816 - val_loss: 116.0670\n",
      "Epoch 137/1000\n",
      "\n",
      "Epoch 137: val_loss improved from 110.38556 to 97.07560, saving model to lstm.keras\n",
      "79/79 - 1s - 7ms/step - loss: 93.5809 - val_loss: 97.0756\n",
      "Epoch 138/1000\n",
      "\n",
      "Epoch 138: val_loss did not improve from 97.07560\n",
      "79/79 - 1s - 7ms/step - loss: 89.1607 - val_loss: 105.5702\n",
      "Epoch 139/1000\n",
      "\n",
      "Epoch 139: val_loss did not improve from 97.07560\n",
      "79/79 - 1s - 7ms/step - loss: 98.4662 - val_loss: 102.1076\n",
      "Epoch 140/1000\n",
      "\n",
      "Epoch 140: val_loss did not improve from 97.07560\n",
      "79/79 - 1s - 7ms/step - loss: 87.3442 - val_loss: 98.1303\n",
      "Epoch 141/1000\n",
      "\n",
      "Epoch 141: val_loss improved from 97.07560 to 93.33337, saving model to lstm.keras\n",
      "79/79 - 1s - 7ms/step - loss: 118.7637 - val_loss: 93.3334\n",
      "Epoch 142/1000\n",
      "\n",
      "Epoch 142: val_loss improved from 93.33337 to 91.39445, saving model to lstm.keras\n",
      "79/79 - 1s - 7ms/step - loss: 86.8923 - val_loss: 91.3945\n",
      "Epoch 143/1000\n",
      "\n",
      "Epoch 143: val_loss did not improve from 91.39445\n",
      "79/79 - 1s - 7ms/step - loss: 88.4878 - val_loss: 92.3548\n",
      "Epoch 144/1000\n",
      "\n",
      "Epoch 144: val_loss did not improve from 91.39445\n",
      "79/79 - 1s - 7ms/step - loss: 82.3469 - val_loss: 102.6579\n",
      "Epoch 145/1000\n",
      "\n",
      "Epoch 145: val_loss did not improve from 91.39445\n",
      "79/79 - 1s - 7ms/step - loss: 86.2119 - val_loss: 103.8121\n",
      "Epoch 146/1000\n",
      "\n",
      "Epoch 146: val_loss did not improve from 91.39445\n",
      "79/79 - 1s - 7ms/step - loss: 93.3803 - val_loss: 96.5620\n",
      "Epoch 147/1000\n",
      "\n",
      "Epoch 147: val_loss did not improve from 91.39445\n",
      "79/79 - 1s - 7ms/step - loss: 79.9981 - val_loss: 92.3893\n",
      "Epoch 148/1000\n",
      "\n",
      "Epoch 148: val_loss improved from 91.39445 to 90.03519, saving model to lstm.keras\n",
      "79/79 - 1s - 7ms/step - loss: 74.1414 - val_loss: 90.0352\n",
      "Epoch 149/1000\n",
      "\n",
      "Epoch 149: val_loss did not improve from 90.03519\n",
      "79/79 - 1s - 7ms/step - loss: 74.4615 - val_loss: 97.8193\n",
      "Epoch 150/1000\n",
      "\n",
      "Epoch 150: val_loss did not improve from 90.03519\n",
      "79/79 - 1s - 7ms/step - loss: 80.2097 - val_loss: 92.2557\n",
      "Epoch 151/1000\n",
      "\n",
      "Epoch 151: val_loss improved from 90.03519 to 89.90685, saving model to lstm.keras\n",
      "79/79 - 1s - 7ms/step - loss: 83.3470 - val_loss: 89.9069\n",
      "Epoch 152/1000\n",
      "\n",
      "Epoch 152: val_loss did not improve from 89.90685\n",
      "79/79 - 1s - 7ms/step - loss: 77.7286 - val_loss: 94.2137\n",
      "Epoch 153/1000\n",
      "\n",
      "Epoch 153: val_loss did not improve from 89.90685\n",
      "79/79 - 1s - 7ms/step - loss: 76.0824 - val_loss: 92.6203\n",
      "Epoch 154/1000\n",
      "\n",
      "Epoch 154: val_loss did not improve from 89.90685\n",
      "79/79 - 1s - 7ms/step - loss: 92.2110 - val_loss: 116.5460\n",
      "Epoch 155/1000\n",
      "\n",
      "Epoch 155: val_loss did not improve from 89.90685\n",
      "79/79 - 1s - 7ms/step - loss: 74.4394 - val_loss: 91.0802\n",
      "Epoch 156/1000\n",
      "\n",
      "Epoch 156: val_loss improved from 89.90685 to 84.77108, saving model to lstm.keras\n",
      "79/79 - 1s - 7ms/step - loss: 79.2267 - val_loss: 84.7711\n",
      "Epoch 157/1000\n",
      "\n",
      "Epoch 157: val_loss did not improve from 84.77108\n",
      "79/79 - 1s - 7ms/step - loss: 79.5239 - val_loss: 106.2018\n",
      "Epoch 158/1000\n",
      "\n",
      "Epoch 158: val_loss did not improve from 84.77108\n",
      "79/79 - 1s - 7ms/step - loss: 78.7664 - val_loss: 122.3573\n",
      "Epoch 159/1000\n",
      "\n",
      "Epoch 159: val_loss improved from 84.77108 to 77.65624, saving model to lstm.keras\n",
      "79/79 - 1s - 7ms/step - loss: 76.7516 - val_loss: 77.6562\n",
      "Epoch 160/1000\n",
      "\n",
      "Epoch 160: val_loss did not improve from 77.65624\n",
      "79/79 - 1s - 7ms/step - loss: 72.0855 - val_loss: 79.4742\n",
      "Epoch 161/1000\n",
      "\n",
      "Epoch 161: val_loss did not improve from 77.65624\n",
      "79/79 - 1s - 7ms/step - loss: 72.5032 - val_loss: 91.1339\n",
      "Epoch 162/1000\n",
      "\n",
      "Epoch 162: val_loss did not improve from 77.65624\n",
      "79/79 - 1s - 7ms/step - loss: 76.9831 - val_loss: 131.9891\n",
      "Epoch 163/1000\n",
      "\n",
      "Epoch 163: val_loss did not improve from 77.65624\n",
      "79/79 - 1s - 7ms/step - loss: 78.0569 - val_loss: 84.4620\n",
      "Epoch 164/1000\n",
      "\n",
      "Epoch 164: val_loss did not improve from 77.65624\n",
      "79/79 - 1s - 7ms/step - loss: 68.5980 - val_loss: 95.7951\n",
      "Epoch 165/1000\n",
      "\n",
      "Epoch 165: val_loss did not improve from 77.65624\n",
      "79/79 - 1s - 7ms/step - loss: 67.8758 - val_loss: 121.1873\n",
      "Epoch 166/1000\n",
      "\n",
      "Epoch 166: val_loss did not improve from 77.65624\n",
      "79/79 - 1s - 7ms/step - loss: 83.4650 - val_loss: 94.5005\n",
      "Epoch 167/1000\n",
      "\n",
      "Epoch 167: val_loss did not improve from 77.65624\n",
      "79/79 - 1s - 7ms/step - loss: 69.9586 - val_loss: 78.1379\n",
      "Epoch 167: early stopping\n"
     ]
    },
    {
     "data": {
      "text/plain": [
       "<keras.src.callbacks.history.History at 0x2670817fe60>"
      ]
     },
     "execution_count": 161,
     "metadata": {},
     "output_type": "execute_result"
    }
   ],
   "source": [
    "checkpoint= ModelCheckpoint(filepath=\"lstm.keras\", verbose=1, save_best_only=True)\n",
    "\n",
    "\n",
    "model_b = Sequential()\n",
    "model_b.add(Bidirectional(LSTM(140,return_sequences=True), input_shape=(7,5)))\n",
    "model_b.add(Bidirectional(LSTM(140),  input_shape=(7,5)))\n",
    "\n",
    "model_b.add(Dense(1))\n",
    "\n",
    "\n",
    "model_b.compile(loss='mean_squared_error', optimizer='adam')\n",
    "monitor = EarlyStopping(monitor='val_loss', min_delta=1e-5, patience=8, verbose=1, mode='auto')\n",
    "\n",
    "\n",
    "model_b.fit(x_train, y_train,validation_data=(x_test,y_test),callbacks=[monitor,checkpoint],verbose=2,epochs=1000)"
   ]
  },
  {
   "cell_type": "code",
   "execution_count": 162,
   "metadata": {},
   "outputs": [
    {
     "name": "stdout",
     "output_type": "stream",
     "text": [
      "\u001b[1m34/34\u001b[0m \u001b[32m━━━━━━━━━━━━━━━━━━━━\u001b[0m\u001b[37m\u001b[0m \u001b[1m1s\u001b[0m 15ms/step\n",
      "Bidirectional LSTM Test RMSE: 8.839563369750977\n"
     ]
    }
   ],
   "source": [
    "from sklearn import metrics\n",
    "\n",
    "# Generate predictions\n",
    "pred_test_b = model_b.predict(x_test)\n",
    "\n",
    "# Calculate RMSE\n",
    "score_test_b = np.sqrt(metrics.mean_squared_error(pred_test_b, y_test))\n",
    "print(\"Bidirectional LSTM Test RMSE: {}\".format(score_test_b))"
   ]
  },
  {
   "cell_type": "code",
   "execution_count": 163,
   "metadata": {},
   "outputs": [
    {
     "data": {
      "image/png": "[encoded data removed]",
      "text/plain": [
       "<Figure size 640x480 with 1 Axes>"
      ]
     },
     "metadata": {},
     "output_type": "display_data"
    }
   ],
   "source": [
    "import matplotlib.pyplot as plt\n",
    "import pandas as pd\n",
    "\n",
    "chart_regression(pred_test_b.flatten(), y_test.flatten(), sort=True)\n"
   ]
  }
 ],
 "metadata": {
  "colab": {
   "provenance": []
  },
  "kernelspec": {
   "display_name": "base",
   "language": "python",
   "name": "python3"
  },
  "language_info": {
   "codemirror_mode": {
    "name": "ipython",
    "version": 3
   },
   "file_extension": ".py",
   "mimetype": "text/x-python",
   "name": "python",
   "nbconvert_exporter": "python",
   "pygments_lexer": "ipython3",
   "version": "3.12.4"
  }
 },
 "nbformat": 4,
 "nbformat_minor": 0
}
